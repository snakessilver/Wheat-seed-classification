{
 "cells": [
  {
   "cell_type": "markdown",
   "metadata": {
    "id": "lUXmIqpCkYNe"
   },
   "source": [
    "# Assiginment 2 - Set 6 _ Wheat seed dataset\n",
    "\n",
    "Group Details :\n",
    "\n",
    "Group No : 244\n",
    "\n",
    "Group Members : Rutika Bandu Sonak , Shailesh S G , Siddharth Jain\n",
    "\n",
    "Contribution : Equal by all 3 members"
   ]
  },
  {
   "cell_type": "markdown",
   "metadata": {
    "id": "hdSKVvNTVkJb"
   },
   "source": [
    "# Import the required libraries"
   ]
  },
  {
   "cell_type": "code",
   "execution_count": null,
   "metadata": {
    "id": "PqxFB-b-88Za"
   },
   "outputs": [],
   "source": [
    "#Importing required modules\n",
    "import pandas as pd\n",
    "import seaborn as sns\n",
    "import matplotlib.pyplot as plt\n",
    "import numpy as np\n",
    "from sklearn.preprocessing import MinMaxScaler, StandardScaler\n",
    "from sklearn.model_selection import train_test_split\n",
    "from sklearn import metrics\n",
    "from sklearn.model_selection import StratifiedShuffleSplit\n",
    "from sklearn.metrics import accuracy_score, r2_score, precision_score, recall_score, f1_score, confusion_matrix, mean_absolute_error, classification_report, confusion_matrix\n",
    "from sklearn.tree import DecisionTreeClassifier\n",
    "from sklearn.neighbors import KNeighborsClassifier\n",
    "from sklearn.model_selection import GridSearchCV\n",
    "\n"
   ]
  },
  {
   "cell_type": "markdown",
   "metadata": {
    "id": "6Xn9xi-L98sx"
   },
   "source": [
    "# 1] **Data Visualization and Exploration**"
   ]
  },
  {
   "cell_type": "code",
   "execution_count": null,
   "metadata": {
    "id": "L9yRDU0u92Dx"
   },
   "outputs": [],
   "source": [
    "# Importing dataset\n",
    "path=\"https://raw.githubusercontent.com/snakessilver/Wheat-seed-classification/main/seed_seed.csv\"\n",
    "df = pd.read_csv(path)"
   ]
  },
  {
   "cell_type": "code",
   "execution_count": null,
   "metadata": {
    "colab": {
     "base_uri": "https://localhost:8080/",
     "height": 112
    },
    "id": "UQnbhlDRpAeD",
    "outputId": "598dd6db-8c77-41cc-8df0-5c9abd87d870"
   },
   "outputs": [
    {
     "data": {
      "text/html": [
       "\n",
       "  <div id=\"df-84fad0d2-3def-416b-bd5f-c79dabb3e6ef\">\n",
       "    <div class=\"colab-df-container\">\n",
       "      <div>\n",
       "<style scoped>\n",
       "    .dataframe tbody tr th:only-of-type {\n",
       "        vertical-align: middle;\n",
       "    }\n",
       "\n",
       "    .dataframe tbody tr th {\n",
       "        vertical-align: top;\n",
       "    }\n",
       "\n",
       "    .dataframe thead th {\n",
       "        text-align: right;\n",
       "    }\n",
       "</style>\n",
       "<table border=\"1\" class=\"dataframe\">\n",
       "  <thead>\n",
       "    <tr style=\"text-align: right;\">\n",
       "      <th></th>\n",
       "      <th>Area</th>\n",
       "      <th>Perimeter</th>\n",
       "      <th>Compactness</th>\n",
       "      <th>Kernel.Length</th>\n",
       "      <th>Kernel.Width</th>\n",
       "      <th>Asymmetry.Coeff</th>\n",
       "      <th>Kernel.Groove</th>\n",
       "      <th>Type</th>\n",
       "    </tr>\n",
       "  </thead>\n",
       "  <tbody>\n",
       "    <tr>\n",
       "      <th>0</th>\n",
       "      <td>15.26</td>\n",
       "      <td>14.84</td>\n",
       "      <td>0.8710</td>\n",
       "      <td>5.763</td>\n",
       "      <td>3.312</td>\n",
       "      <td>2.221</td>\n",
       "      <td>5.220</td>\n",
       "      <td>1</td>\n",
       "    </tr>\n",
       "    <tr>\n",
       "      <th>1</th>\n",
       "      <td>14.88</td>\n",
       "      <td>14.57</td>\n",
       "      <td>0.8811</td>\n",
       "      <td>5.554</td>\n",
       "      <td>3.333</td>\n",
       "      <td>1.018</td>\n",
       "      <td>4.956</td>\n",
       "      <td>1</td>\n",
       "    </tr>\n",
       "  </tbody>\n",
       "</table>\n",
       "</div>\n",
       "      <button class=\"colab-df-convert\" onclick=\"convertToInteractive('df-84fad0d2-3def-416b-bd5f-c79dabb3e6ef')\"\n",
       "              title=\"Convert this dataframe to an interactive table.\"\n",
       "              style=\"display:none;\">\n",
       "        \n",
       "  <svg xmlns=\"http://www.w3.org/2000/svg\" height=\"24px\"viewBox=\"0 0 24 24\"\n",
       "       width=\"24px\">\n",
       "    <path d=\"M0 0h24v24H0V0z\" fill=\"none\"/>\n",
       "    <path d=\"M18.56 5.44l.94 2.06.94-2.06 2.06-.94-2.06-.94-.94-2.06-.94 2.06-2.06.94zm-11 1L8.5 8.5l.94-2.06 2.06-.94-2.06-.94L8.5 2.5l-.94 2.06-2.06.94zm10 10l.94 2.06.94-2.06 2.06-.94-2.06-.94-.94-2.06-.94 2.06-2.06.94z\"/><path d=\"M17.41 7.96l-1.37-1.37c-.4-.4-.92-.59-1.43-.59-.52 0-1.04.2-1.43.59L10.3 9.45l-7.72 7.72c-.78.78-.78 2.05 0 2.83L4 21.41c.39.39.9.59 1.41.59.51 0 1.02-.2 1.41-.59l7.78-7.78 2.81-2.81c.8-.78.8-2.07 0-2.86zM5.41 20L4 18.59l7.72-7.72 1.47 1.35L5.41 20z\"/>\n",
       "  </svg>\n",
       "      </button>\n",
       "      \n",
       "  <style>\n",
       "    .colab-df-container {\n",
       "      display:flex;\n",
       "      flex-wrap:wrap;\n",
       "      gap: 12px;\n",
       "    }\n",
       "\n",
       "    .colab-df-convert {\n",
       "      background-color: #E8F0FE;\n",
       "      border: none;\n",
       "      border-radius: 50%;\n",
       "      cursor: pointer;\n",
       "      display: none;\n",
       "      fill: #1967D2;\n",
       "      height: 32px;\n",
       "      padding: 0 0 0 0;\n",
       "      width: 32px;\n",
       "    }\n",
       "\n",
       "    .colab-df-convert:hover {\n",
       "      background-color: #E2EBFA;\n",
       "      box-shadow: 0px 1px 2px rgba(60, 64, 67, 0.3), 0px 1px 3px 1px rgba(60, 64, 67, 0.15);\n",
       "      fill: #174EA6;\n",
       "    }\n",
       "\n",
       "    [theme=dark] .colab-df-convert {\n",
       "      background-color: #3B4455;\n",
       "      fill: #D2E3FC;\n",
       "    }\n",
       "\n",
       "    [theme=dark] .colab-df-convert:hover {\n",
       "      background-color: #434B5C;\n",
       "      box-shadow: 0px 1px 3px 1px rgba(0, 0, 0, 0.15);\n",
       "      filter: drop-shadow(0px 1px 2px rgba(0, 0, 0, 0.3));\n",
       "      fill: #FFFFFF;\n",
       "    }\n",
       "  </style>\n",
       "\n",
       "      <script>\n",
       "        const buttonEl =\n",
       "          document.querySelector('#df-84fad0d2-3def-416b-bd5f-c79dabb3e6ef button.colab-df-convert');\n",
       "        buttonEl.style.display =\n",
       "          google.colab.kernel.accessAllowed ? 'block' : 'none';\n",
       "\n",
       "        async function convertToInteractive(key) {\n",
       "          const element = document.querySelector('#df-84fad0d2-3def-416b-bd5f-c79dabb3e6ef');\n",
       "          const dataTable =\n",
       "            await google.colab.kernel.invokeFunction('convertToInteractive',\n",
       "                                                     [key], {});\n",
       "          if (!dataTable) return;\n",
       "\n",
       "          const docLinkHtml = 'Like what you see? Visit the ' +\n",
       "            '<a target=\"_blank\" href=https://colab.research.google.com/notebooks/data_table.ipynb>data table notebook</a>'\n",
       "            + ' to learn more about interactive tables.';\n",
       "          element.innerHTML = '';\n",
       "          dataTable['output_type'] = 'display_data';\n",
       "          await google.colab.output.renderOutput(dataTable, element);\n",
       "          const docLink = document.createElement('div');\n",
       "          docLink.innerHTML = docLinkHtml;\n",
       "          element.appendChild(docLink);\n",
       "        }\n",
       "      </script>\n",
       "    </div>\n",
       "  </div>\n",
       "  "
      ],
      "text/plain": [
       "    Area  Perimeter  Compactness  Kernel.Length  Kernel.Width  \\\n",
       "0  15.26      14.84       0.8710          5.763         3.312   \n",
       "1  14.88      14.57       0.8811          5.554         3.333   \n",
       "\n",
       "   Asymmetry.Coeff  Kernel.Groove  Type  \n",
       "0            2.221          5.220     1  \n",
       "1            1.018          4.956     1  "
      ]
     },
     "execution_count": 641,
     "metadata": {},
     "output_type": "execute_result"
    }
   ],
   "source": [
    "# Displaying first 2 lines of the dataset\n",
    "df.head(2)"
   ]
  },
  {
   "cell_type": "code",
   "execution_count": null,
   "metadata": {
    "colab": {
     "base_uri": "https://localhost:8080/"
    },
    "id": "FK0yKQk1tARl",
    "outputId": "b45ee226-75a8-4093-f84a-070e8d29b1d4"
   },
   "outputs": [
    {
     "data": {
      "text/plain": [
       "Index(['Area', 'Perimeter', 'Compactness', 'Kernel.Length', 'Kernel.Width',\n",
       "       'Asymmetry.Coeff', 'Kernel.Groove', 'Type'],\n",
       "      dtype='object')"
      ]
     },
     "execution_count": 642,
     "metadata": {},
     "output_type": "execute_result"
    }
   ],
   "source": [
    "# Displaying the number of columns and the column names in the dataset\n",
    "df.columns"
   ]
  },
  {
   "cell_type": "code",
   "execution_count": null,
   "metadata": {
    "colab": {
     "base_uri": "https://localhost:8080/",
     "height": 300
    },
    "id": "42nYh8hP83YQ",
    "outputId": "6a1ec082-4865-4029-c21a-158e214269f6"
   },
   "outputs": [
    {
     "data": {
      "text/html": [
       "\n",
       "  <div id=\"df-ad64bb91-0e15-4d74-abff-ad1d86ec4857\">\n",
       "    <div class=\"colab-df-container\">\n",
       "      <div>\n",
       "<style scoped>\n",
       "    .dataframe tbody tr th:only-of-type {\n",
       "        vertical-align: middle;\n",
       "    }\n",
       "\n",
       "    .dataframe tbody tr th {\n",
       "        vertical-align: top;\n",
       "    }\n",
       "\n",
       "    .dataframe thead th {\n",
       "        text-align: right;\n",
       "    }\n",
       "</style>\n",
       "<table border=\"1\" class=\"dataframe\">\n",
       "  <thead>\n",
       "    <tr style=\"text-align: right;\">\n",
       "      <th></th>\n",
       "      <th>Area</th>\n",
       "      <th>Perimeter</th>\n",
       "      <th>Compactness</th>\n",
       "      <th>Kernel.Length</th>\n",
       "      <th>Kernel.Width</th>\n",
       "      <th>Asymmetry.Coeff</th>\n",
       "      <th>Kernel.Groove</th>\n",
       "      <th>Type</th>\n",
       "    </tr>\n",
       "  </thead>\n",
       "  <tbody>\n",
       "    <tr>\n",
       "      <th>count</th>\n",
       "      <td>199.000000</td>\n",
       "      <td>199.000000</td>\n",
       "      <td>199.000000</td>\n",
       "      <td>199.000000</td>\n",
       "      <td>199.000000</td>\n",
       "      <td>199.000000</td>\n",
       "      <td>199.000000</td>\n",
       "      <td>199.000000</td>\n",
       "    </tr>\n",
       "    <tr>\n",
       "      <th>mean</th>\n",
       "      <td>14.918744</td>\n",
       "      <td>14.595829</td>\n",
       "      <td>0.870811</td>\n",
       "      <td>5.643151</td>\n",
       "      <td>3.265533</td>\n",
       "      <td>3.699217</td>\n",
       "      <td>5.420653</td>\n",
       "      <td>1.994975</td>\n",
       "    </tr>\n",
       "    <tr>\n",
       "      <th>std</th>\n",
       "      <td>2.919976</td>\n",
       "      <td>1.310445</td>\n",
       "      <td>0.023320</td>\n",
       "      <td>0.443593</td>\n",
       "      <td>0.378322</td>\n",
       "      <td>1.471102</td>\n",
       "      <td>0.492718</td>\n",
       "      <td>0.813382</td>\n",
       "    </tr>\n",
       "    <tr>\n",
       "      <th>min</th>\n",
       "      <td>10.590000</td>\n",
       "      <td>12.410000</td>\n",
       "      <td>0.808100</td>\n",
       "      <td>4.899000</td>\n",
       "      <td>2.630000</td>\n",
       "      <td>0.765100</td>\n",
       "      <td>4.519000</td>\n",
       "      <td>1.000000</td>\n",
       "    </tr>\n",
       "    <tr>\n",
       "      <th>25%</th>\n",
       "      <td>12.330000</td>\n",
       "      <td>13.470000</td>\n",
       "      <td>0.857100</td>\n",
       "      <td>5.267000</td>\n",
       "      <td>2.954500</td>\n",
       "      <td>2.570000</td>\n",
       "      <td>5.046000</td>\n",
       "      <td>1.000000</td>\n",
       "    </tr>\n",
       "    <tr>\n",
       "      <th>50%</th>\n",
       "      <td>14.430000</td>\n",
       "      <td>14.370000</td>\n",
       "      <td>0.873400</td>\n",
       "      <td>5.541000</td>\n",
       "      <td>3.245000</td>\n",
       "      <td>3.631000</td>\n",
       "      <td>5.228000</td>\n",
       "      <td>2.000000</td>\n",
       "    </tr>\n",
       "    <tr>\n",
       "      <th>75%</th>\n",
       "      <td>17.455000</td>\n",
       "      <td>15.805000</td>\n",
       "      <td>0.886800</td>\n",
       "      <td>6.002000</td>\n",
       "      <td>3.564500</td>\n",
       "      <td>4.799000</td>\n",
       "      <td>5.879000</td>\n",
       "      <td>3.000000</td>\n",
       "    </tr>\n",
       "    <tr>\n",
       "      <th>max</th>\n",
       "      <td>21.180000</td>\n",
       "      <td>17.250000</td>\n",
       "      <td>0.918300</td>\n",
       "      <td>6.675000</td>\n",
       "      <td>4.033000</td>\n",
       "      <td>8.315000</td>\n",
       "      <td>6.550000</td>\n",
       "      <td>3.000000</td>\n",
       "    </tr>\n",
       "  </tbody>\n",
       "</table>\n",
       "</div>\n",
       "      <button class=\"colab-df-convert\" onclick=\"convertToInteractive('df-ad64bb91-0e15-4d74-abff-ad1d86ec4857')\"\n",
       "              title=\"Convert this dataframe to an interactive table.\"\n",
       "              style=\"display:none;\">\n",
       "        \n",
       "  <svg xmlns=\"http://www.w3.org/2000/svg\" height=\"24px\"viewBox=\"0 0 24 24\"\n",
       "       width=\"24px\">\n",
       "    <path d=\"M0 0h24v24H0V0z\" fill=\"none\"/>\n",
       "    <path d=\"M18.56 5.44l.94 2.06.94-2.06 2.06-.94-2.06-.94-.94-2.06-.94 2.06-2.06.94zm-11 1L8.5 8.5l.94-2.06 2.06-.94-2.06-.94L8.5 2.5l-.94 2.06-2.06.94zm10 10l.94 2.06.94-2.06 2.06-.94-2.06-.94-.94-2.06-.94 2.06-2.06.94z\"/><path d=\"M17.41 7.96l-1.37-1.37c-.4-.4-.92-.59-1.43-.59-.52 0-1.04.2-1.43.59L10.3 9.45l-7.72 7.72c-.78.78-.78 2.05 0 2.83L4 21.41c.39.39.9.59 1.41.59.51 0 1.02-.2 1.41-.59l7.78-7.78 2.81-2.81c.8-.78.8-2.07 0-2.86zM5.41 20L4 18.59l7.72-7.72 1.47 1.35L5.41 20z\"/>\n",
       "  </svg>\n",
       "      </button>\n",
       "      \n",
       "  <style>\n",
       "    .colab-df-container {\n",
       "      display:flex;\n",
       "      flex-wrap:wrap;\n",
       "      gap: 12px;\n",
       "    }\n",
       "\n",
       "    .colab-df-convert {\n",
       "      background-color: #E8F0FE;\n",
       "      border: none;\n",
       "      border-radius: 50%;\n",
       "      cursor: pointer;\n",
       "      display: none;\n",
       "      fill: #1967D2;\n",
       "      height: 32px;\n",
       "      padding: 0 0 0 0;\n",
       "      width: 32px;\n",
       "    }\n",
       "\n",
       "    .colab-df-convert:hover {\n",
       "      background-color: #E2EBFA;\n",
       "      box-shadow: 0px 1px 2px rgba(60, 64, 67, 0.3), 0px 1px 3px 1px rgba(60, 64, 67, 0.15);\n",
       "      fill: #174EA6;\n",
       "    }\n",
       "\n",
       "    [theme=dark] .colab-df-convert {\n",
       "      background-color: #3B4455;\n",
       "      fill: #D2E3FC;\n",
       "    }\n",
       "\n",
       "    [theme=dark] .colab-df-convert:hover {\n",
       "      background-color: #434B5C;\n",
       "      box-shadow: 0px 1px 3px 1px rgba(0, 0, 0, 0.15);\n",
       "      filter: drop-shadow(0px 1px 2px rgba(0, 0, 0, 0.3));\n",
       "      fill: #FFFFFF;\n",
       "    }\n",
       "  </style>\n",
       "\n",
       "      <script>\n",
       "        const buttonEl =\n",
       "          document.querySelector('#df-ad64bb91-0e15-4d74-abff-ad1d86ec4857 button.colab-df-convert');\n",
       "        buttonEl.style.display =\n",
       "          google.colab.kernel.accessAllowed ? 'block' : 'none';\n",
       "\n",
       "        async function convertToInteractive(key) {\n",
       "          const element = document.querySelector('#df-ad64bb91-0e15-4d74-abff-ad1d86ec4857');\n",
       "          const dataTable =\n",
       "            await google.colab.kernel.invokeFunction('convertToInteractive',\n",
       "                                                     [key], {});\n",
       "          if (!dataTable) return;\n",
       "\n",
       "          const docLinkHtml = 'Like what you see? Visit the ' +\n",
       "            '<a target=\"_blank\" href=https://colab.research.google.com/notebooks/data_table.ipynb>data table notebook</a>'\n",
       "            + ' to learn more about interactive tables.';\n",
       "          element.innerHTML = '';\n",
       "          dataTable['output_type'] = 'display_data';\n",
       "          await google.colab.output.renderOutput(dataTable, element);\n",
       "          const docLink = document.createElement('div');\n",
       "          docLink.innerHTML = docLinkHtml;\n",
       "          element.appendChild(docLink);\n",
       "        }\n",
       "      </script>\n",
       "    </div>\n",
       "  </div>\n",
       "  "
      ],
      "text/plain": [
       "             Area   Perimeter  Compactness  Kernel.Length  Kernel.Width  \\\n",
       "count  199.000000  199.000000   199.000000     199.000000    199.000000   \n",
       "mean    14.918744   14.595829     0.870811       5.643151      3.265533   \n",
       "std      2.919976    1.310445     0.023320       0.443593      0.378322   \n",
       "min     10.590000   12.410000     0.808100       4.899000      2.630000   \n",
       "25%     12.330000   13.470000     0.857100       5.267000      2.954500   \n",
       "50%     14.430000   14.370000     0.873400       5.541000      3.245000   \n",
       "75%     17.455000   15.805000     0.886800       6.002000      3.564500   \n",
       "max     21.180000   17.250000     0.918300       6.675000      4.033000   \n",
       "\n",
       "       Asymmetry.Coeff  Kernel.Groove        Type  \n",
       "count       199.000000     199.000000  199.000000  \n",
       "mean          3.699217       5.420653    1.994975  \n",
       "std           1.471102       0.492718    0.813382  \n",
       "min           0.765100       4.519000    1.000000  \n",
       "25%           2.570000       5.046000    1.000000  \n",
       "50%           3.631000       5.228000    2.000000  \n",
       "75%           4.799000       5.879000    3.000000  \n",
       "max           8.315000       6.550000    3.000000  "
      ]
     },
     "execution_count": 643,
     "metadata": {},
     "output_type": "execute_result"
    }
   ],
   "source": [
    "# Displying the statistical details of the dataset\n",
    "df.describe()"
   ]
  },
  {
   "cell_type": "markdown",
   "metadata": {
    "id": "t74L4EbQ3JrF"
   },
   "source": [
    "From the above output we can understand the count of values , the mean values , the standard deviation, minimum values, maximun values and the three quartile values for various columns. From the 3 quartile values of all the columns we can say that the quartile values are quite near to each other i.e. there is less differnce between them so the data points are also near to each other."
   ]
  },
  {
   "cell_type": "code",
   "execution_count": null,
   "metadata": {
    "colab": {
     "base_uri": "https://localhost:8080/"
    },
    "id": "TsHLKMJC9iRq",
    "outputId": "9436c7cb-5bc9-433c-c43f-a36d4404339c"
   },
   "outputs": [
    {
     "data": {
      "text/plain": [
       "(199, 8)"
      ]
     },
     "execution_count": 644,
     "metadata": {},
     "output_type": "execute_result"
    }
   ],
   "source": [
    "# Displaying the number of rows and columns in dataset.(rows,coulmns)\n",
    "df.shape"
   ]
  },
  {
   "cell_type": "code",
   "execution_count": null,
   "metadata": {
    "colab": {
     "base_uri": "https://localhost:8080/"
    },
    "id": "XglSSFEN_iyh",
    "outputId": "a3fcdaaf-409d-4ef7-88bc-ba4756094baa"
   },
   "outputs": [
    {
     "name": "stdout",
     "output_type": "stream",
     "text": [
      "<class 'pandas.core.frame.DataFrame'>\n",
      "RangeIndex: 199 entries, 0 to 198\n",
      "Data columns (total 8 columns):\n",
      " #   Column           Non-Null Count  Dtype  \n",
      "---  ------           --------------  -----  \n",
      " 0   Area             199 non-null    float64\n",
      " 1   Perimeter        199 non-null    float64\n",
      " 2   Compactness      199 non-null    float64\n",
      " 3   Kernel.Length    199 non-null    float64\n",
      " 4   Kernel.Width     199 non-null    float64\n",
      " 5   Asymmetry.Coeff  199 non-null    float64\n",
      " 6   Kernel.Groove    199 non-null    float64\n",
      " 7   Type             199 non-null    int64  \n",
      "dtypes: float64(7), int64(1)\n",
      "memory usage: 12.6 KB\n"
     ]
    }
   ],
   "source": [
    "# displaying summary of dataframe\n",
    "df.info()"
   ]
  },
  {
   "cell_type": "markdown",
   "metadata": {
    "id": "Y9NAsO064wAV"
   },
   "source": [
    "Info() is used to get a quick overview of the dataset. We can see in the output, the summary includes list of all columns with their data types, the number of non-null values in each column , memory usage, etc."
   ]
  },
  {
   "cell_type": "markdown",
   "metadata": {
    "id": "RAUTILvJbxfW"
   },
   "source": [
    "*  Checking for class imbalance"
   ]
  },
  {
   "cell_type": "code",
   "execution_count": null,
   "metadata": {
    "colab": {
     "base_uri": "https://localhost:8080/"
    },
    "id": "eYyRMQFp0zCI",
    "outputId": "b6b4136b-26e8-4ba8-9889-152f64da8f82"
   },
   "outputs": [
    {
     "data": {
      "text/plain": [
       "2    34.170854\n",
       "1    33.165829\n",
       "3    32.663317\n",
       "Name: Type, dtype: float64"
      ]
     },
     "execution_count": 646,
     "metadata": {},
     "output_type": "execute_result"
    }
   ],
   "source": [
    "df[\"Type\"].value_counts() / len(df) * 100 "
   ]
  },
  {
   "cell_type": "code",
   "execution_count": null,
   "metadata": {
    "colab": {
     "base_uri": "https://localhost:8080/",
     "height": 353
    },
    "id": "LNcaxYM81Bkv",
    "outputId": "99244872-76d6-49de-da2b-714c7afa1578"
   },
   "outputs": [
    {
     "name": "stderr",
     "output_type": "stream",
     "text": [
      "/usr/local/lib/python3.7/dist-packages/seaborn/_decorators.py:43: FutureWarning: Pass the following variable as a keyword arg: x. From version 0.12, the only valid positional argument will be `data`, and passing other arguments without an explicit keyword will result in an error or misinterpretation.\n",
      "  FutureWarning\n"
     ]
    },
    {
     "data": {
      "text/plain": [
       "<matplotlib.axes._subplots.AxesSubplot at 0x7f3818c109d0>"
      ]
     },
     "execution_count": 647,
     "metadata": {},
     "output_type": "execute_result"
    },
    {
     "data": {
      "image/png": "[encoded data removed]",
      "text/plain": [
       "<Figure size 432x288 with 1 Axes>"
      ]
     },
     "metadata": {
      "needs_background": "light"
     },
     "output_type": "display_data"
    }
   ],
   "source": [
    "sns.countplot(df['Type'])"
   ]
  },
  {
   "cell_type": "code",
   "execution_count": null,
   "metadata": {
    "colab": {
     "base_uri": "https://localhost:8080/"
    },
    "id": "oYPbtfTbmAUg",
    "outputId": "e4fccb3a-4806-48d2-e347-bd3da658d83e"
   },
   "outputs": [
    {
     "data": {
      "text/plain": [
       "2    68\n",
       "1    66\n",
       "3    65\n",
       "Name: Type, dtype: int64"
      ]
     },
     "execution_count": 648,
     "metadata": {},
     "output_type": "execute_result"
    }
   ],
   "source": [
    "# checking for class imbalance\n",
    "df[\"Type\"].value_counts()"
   ]
  },
  {
   "cell_type": "markdown",
   "metadata": {
    "id": "2f_lZfm3pbai"
   },
   "source": [
    "The number of data points all the three types of classes almost same i.e. the difference is very less so we can say that the classes are not imbalanced."
   ]
  },
  {
   "cell_type": "markdown",
   "metadata": {
    "id": "paZCgs9nb9GR"
   },
   "source": [
    "* Visualization to get the insights of the data"
   ]
  },
  {
   "cell_type": "code",
   "execution_count": null,
   "metadata": {
    "colab": {
     "base_uri": "https://localhost:8080/",
     "height": 483
    },
    "id": "UEPWpsJM5ne6",
    "outputId": "763b44fc-b434-4c93-d63b-73974eeda1fe"
   },
   "outputs": [
    {
     "data": {
      "image/png": "[encoded data removed]",
      "text/plain": [
       "<Figure size 576x576 with 8 Axes>"
      ]
     },
     "metadata": {
      "needs_background": "light"
     },
     "output_type": "display_data"
    }
   ],
   "source": [
    "# Column wise line graphs\n",
    "df.plot(subplots=True, figsize=(8, 8));"
   ]
  },
  {
   "cell_type": "markdown",
   "metadata": {
    "id": "MxpGl5s9B96v"
   },
   "source": [
    "The above line graph helps understand how the values are varying across each column in dataset."
   ]
  },
  {
   "cell_type": "code",
   "execution_count": null,
   "metadata": {
    "colab": {
     "base_uri": "https://localhost:8080/",
     "height": 607
    },
    "id": "7HHXUyuRxIZq",
    "outputId": "1fc8af5a-c339-4415-a3af-d5af590de90c"
   },
   "outputs": [
    {
     "data": {
      "image/png": "[encoded data removed]",
      "text/plain": [
       "<Figure size 1080x720 with 9 Axes>"
      ]
     },
     "metadata": {
      "needs_background": "light"
     },
     "output_type": "display_data"
    }
   ],
   "source": [
    "# Column wise histogram\n",
    "df.hist(bins=30, figsize=(15, 10));"
   ]
  },
  {
   "cell_type": "markdown",
   "metadata": {
    "id": "g84ct6riP5TW"
   },
   "source": [
    "A histogram shows how frequently a value falls into a particular bin. The height of each bar represents the number of values in the data set that fall within a particular bin. for eaxmple in or data we can see that in \"Perimeter\" column maximum values fall between 13 and 14 and in \"kernel.groove\" column max values fall between 5 and 5.5."
   ]
  },
  {
   "cell_type": "markdown",
   "metadata": {
    "id": "78ZAieMdcNr5"
   },
   "source": [
    "* Doing correlation analysis on dataset"
   ]
  },
  {
   "cell_type": "code",
   "execution_count": null,
   "metadata": {
    "colab": {
     "base_uri": "https://localhost:8080/",
     "height": 523
    },
    "id": "qvluq0i_Cs83",
    "outputId": "2e03818d-829a-4bb6-995c-379ad787ec23"
   },
   "outputs": [
    {
     "data": {
      "text/plain": [
       "(array([0.5, 1.5, 2.5, 3.5, 4.5, 5.5, 6.5, 7.5]),\n",
       " <a list of 8 Text major ticklabel objects>)"
      ]
     },
     "execution_count": 651,
     "metadata": {},
     "output_type": "execute_result"
    },
    {
     "data": {
      "image/png": "[encoded data removed]",
      "text/plain": [
       "<Figure size 1080x576 with 2 Axes>"
      ]
     },
     "metadata": {
      "needs_background": "light"
     },
     "output_type": "display_data"
    }
   ],
   "source": [
    "# Performing correlation analysis\n",
    "plt.figure(figsize=(15, 8))\n",
    "sns.heatmap(df.corr(), linewidths=.1,cmap=\"Blues\", annot=True, annot_kws={\"size\": 15})\n",
    "plt.yticks(rotation=0)"
   ]
  },
  {
   "cell_type": "markdown",
   "metadata": {
    "id": "kjYXTh1RVFWc"
   },
   "source": [
    "The above heatmap shows R(correlation coefficient) values for all the features.\n",
    "The heat map suggests that the cells that are darker in color are highly correlated and so have high R values. If the features are highly corrrelated too each other then one of them has to be removed to reduce the complexity,to reduce chances of errors, for better computaional speed ,etc.\n",
    "\n",
    "Considering the limit to be 0.95, we can conclude from heatmap:\n",
    "* Area is highly correlated to Perimeter, Kernel.Length, and Kernel width\n",
    "* Perimeter is highly correlated to Area, Kernel.Length, and Kernel width\n",
    "* Kernel.Length and Kernel.width is highly correlated to Area and perimeter\n",
    "So we can conclude that the columns to be dropped will be ('Perimeter', 'Kernel.Length', 'Kernel.Width')\n",
    "Thus, we can say that correlation analysis does affect feature selection."
   ]
  },
  {
   "cell_type": "code",
   "execution_count": null,
   "metadata": {
    "colab": {
     "base_uri": "https://localhost:8080/"
    },
    "id": "Xe7S1ro-TtQp",
    "outputId": "e9aea156-358c-4b9b-ad49-576cffad153c"
   },
   "outputs": [
    {
     "name": "stderr",
     "output_type": "stream",
     "text": [
      "/usr/local/lib/python3.7/dist-packages/ipykernel_launcher.py:5: DeprecationWarning: `np.bool` is a deprecated alias for the builtin `bool`. To silence this warning, use `bool` by itself. Doing this will not modify any behavior and is safe. If you specifically wanted the numpy scalar type, use `np.bool_` here.\n",
      "Deprecated in NumPy 1.20; for more details and guidance: https://numpy.org/devdocs/release/1.20.0-notes.html#deprecations\n",
      "  \"\"\"\n"
     ]
    }
   ],
   "source": [
    "# Create correlation matrix\n",
    "corr_matrix = df.corr().abs()\n",
    "\n",
    "# Select upper triangle of correlation matrix\n",
    "upper = corr_matrix.where(np.triu(np.ones(corr_matrix.shape), k=1).astype(np.bool))\n",
    "\n",
    "# Find index of feature columns with correlation greater than 0.99\n",
    "to_drop = [column for column in upper.columns if any(upper[column] > 0.99)]"
   ]
  },
  {
   "cell_type": "code",
   "execution_count": null,
   "metadata": {
    "colab": {
     "base_uri": "https://localhost:8080/"
    },
    "id": "Z1dJT-g5UU42",
    "outputId": "7e55592d-e91f-4f48-b743-d1e520ac4a4e"
   },
   "outputs": [
    {
     "name": "stdout",
     "output_type": "stream",
     "text": [
      "['Perimeter']\n"
     ]
    }
   ],
   "source": [
    "print(to_drop)"
   ]
  },
  {
   "cell_type": "code",
   "execution_count": null,
   "metadata": {
    "id": "jAWAXgvhTiP4"
   },
   "outputs": [],
   "source": [
    "# Dropping columns based on the conclusions drawn by correlation analysis done above\n",
    "df.drop(['Perimeter'], axis=1, inplace=True)"
   ]
  },
  {
   "cell_type": "code",
   "execution_count": null,
   "metadata": {
    "colab": {
     "base_uri": "https://localhost:8080/",
     "height": 424
    },
    "id": "-ODHTEija1t1",
    "outputId": "8b7cc8a9-c245-4f0d-fc12-84dcd3a89315"
   },
   "outputs": [
    {
     "data": {
      "text/html": [
       "\n",
       "  <div id=\"df-97fa77fe-0e0e-4170-90e7-0514b26468b5\">\n",
       "    <div class=\"colab-df-container\">\n",
       "      <div>\n",
       "<style scoped>\n",
       "    .dataframe tbody tr th:only-of-type {\n",
       "        vertical-align: middle;\n",
       "    }\n",
       "\n",
       "    .dataframe tbody tr th {\n",
       "        vertical-align: top;\n",
       "    }\n",
       "\n",
       "    .dataframe thead th {\n",
       "        text-align: right;\n",
       "    }\n",
       "</style>\n",
       "<table border=\"1\" class=\"dataframe\">\n",
       "  <thead>\n",
       "    <tr style=\"text-align: right;\">\n",
       "      <th></th>\n",
       "      <th>Area</th>\n",
       "      <th>Compactness</th>\n",
       "      <th>Kernel.Length</th>\n",
       "      <th>Kernel.Width</th>\n",
       "      <th>Asymmetry.Coeff</th>\n",
       "      <th>Kernel.Groove</th>\n",
       "      <th>Type</th>\n",
       "    </tr>\n",
       "  </thead>\n",
       "  <tbody>\n",
       "    <tr>\n",
       "      <th>0</th>\n",
       "      <td>15.26</td>\n",
       "      <td>0.8710</td>\n",
       "      <td>5.763</td>\n",
       "      <td>3.312</td>\n",
       "      <td>2.221</td>\n",
       "      <td>5.220</td>\n",
       "      <td>1</td>\n",
       "    </tr>\n",
       "    <tr>\n",
       "      <th>1</th>\n",
       "      <td>14.88</td>\n",
       "      <td>0.8811</td>\n",
       "      <td>5.554</td>\n",
       "      <td>3.333</td>\n",
       "      <td>1.018</td>\n",
       "      <td>4.956</td>\n",
       "      <td>1</td>\n",
       "    </tr>\n",
       "    <tr>\n",
       "      <th>2</th>\n",
       "      <td>14.29</td>\n",
       "      <td>0.9050</td>\n",
       "      <td>5.291</td>\n",
       "      <td>3.337</td>\n",
       "      <td>2.699</td>\n",
       "      <td>4.825</td>\n",
       "      <td>1</td>\n",
       "    </tr>\n",
       "    <tr>\n",
       "      <th>3</th>\n",
       "      <td>13.84</td>\n",
       "      <td>0.8955</td>\n",
       "      <td>5.324</td>\n",
       "      <td>3.379</td>\n",
       "      <td>2.259</td>\n",
       "      <td>4.805</td>\n",
       "      <td>1</td>\n",
       "    </tr>\n",
       "    <tr>\n",
       "      <th>4</th>\n",
       "      <td>16.14</td>\n",
       "      <td>0.9034</td>\n",
       "      <td>5.658</td>\n",
       "      <td>3.562</td>\n",
       "      <td>1.355</td>\n",
       "      <td>5.175</td>\n",
       "      <td>1</td>\n",
       "    </tr>\n",
       "    <tr>\n",
       "      <th>...</th>\n",
       "      <td>...</td>\n",
       "      <td>...</td>\n",
       "      <td>...</td>\n",
       "      <td>...</td>\n",
       "      <td>...</td>\n",
       "      <td>...</td>\n",
       "      <td>...</td>\n",
       "    </tr>\n",
       "    <tr>\n",
       "      <th>194</th>\n",
       "      <td>12.19</td>\n",
       "      <td>0.8783</td>\n",
       "      <td>5.137</td>\n",
       "      <td>2.981</td>\n",
       "      <td>3.631</td>\n",
       "      <td>4.870</td>\n",
       "      <td>3</td>\n",
       "    </tr>\n",
       "    <tr>\n",
       "      <th>195</th>\n",
       "      <td>11.23</td>\n",
       "      <td>0.8511</td>\n",
       "      <td>5.140</td>\n",
       "      <td>2.795</td>\n",
       "      <td>4.325</td>\n",
       "      <td>5.003</td>\n",
       "      <td>3</td>\n",
       "    </tr>\n",
       "    <tr>\n",
       "      <th>196</th>\n",
       "      <td>13.20</td>\n",
       "      <td>0.8883</td>\n",
       "      <td>5.236</td>\n",
       "      <td>3.232</td>\n",
       "      <td>8.315</td>\n",
       "      <td>5.056</td>\n",
       "      <td>3</td>\n",
       "    </tr>\n",
       "    <tr>\n",
       "      <th>197</th>\n",
       "      <td>11.84</td>\n",
       "      <td>0.8521</td>\n",
       "      <td>5.175</td>\n",
       "      <td>2.836</td>\n",
       "      <td>3.598</td>\n",
       "      <td>5.044</td>\n",
       "      <td>3</td>\n",
       "    </tr>\n",
       "    <tr>\n",
       "      <th>198</th>\n",
       "      <td>12.30</td>\n",
       "      <td>0.8684</td>\n",
       "      <td>5.243</td>\n",
       "      <td>2.974</td>\n",
       "      <td>5.637</td>\n",
       "      <td>5.063</td>\n",
       "      <td>3</td>\n",
       "    </tr>\n",
       "  </tbody>\n",
       "</table>\n",
       "<p>199 rows × 7 columns</p>\n",
       "</div>\n",
       "      <button class=\"colab-df-convert\" onclick=\"convertToInteractive('df-97fa77fe-0e0e-4170-90e7-0514b26468b5')\"\n",
       "              title=\"Convert this dataframe to an interactive table.\"\n",
       "              style=\"display:none;\">\n",
       "        \n",
       "  <svg xmlns=\"http://www.w3.org/2000/svg\" height=\"24px\"viewBox=\"0 0 24 24\"\n",
       "       width=\"24px\">\n",
       "    <path d=\"M0 0h24v24H0V0z\" fill=\"none\"/>\n",
       "    <path d=\"M18.56 5.44l.94 2.06.94-2.06 2.06-.94-2.06-.94-.94-2.06-.94 2.06-2.06.94zm-11 1L8.5 8.5l.94-2.06 2.06-.94-2.06-.94L8.5 2.5l-.94 2.06-2.06.94zm10 10l.94 2.06.94-2.06 2.06-.94-2.06-.94-.94-2.06-.94 2.06-2.06.94z\"/><path d=\"M17.41 7.96l-1.37-1.37c-.4-.4-.92-.59-1.43-.59-.52 0-1.04.2-1.43.59L10.3 9.45l-7.72 7.72c-.78.78-.78 2.05 0 2.83L4 21.41c.39.39.9.59 1.41.59.51 0 1.02-.2 1.41-.59l7.78-7.78 2.81-2.81c.8-.78.8-2.07 0-2.86zM5.41 20L4 18.59l7.72-7.72 1.47 1.35L5.41 20z\"/>\n",
       "  </svg>\n",
       "      </button>\n",
       "      \n",
       "  <style>\n",
       "    .colab-df-container {\n",
       "      display:flex;\n",
       "      flex-wrap:wrap;\n",
       "      gap: 12px;\n",
       "    }\n",
       "\n",
       "    .colab-df-convert {\n",
       "      background-color: #E8F0FE;\n",
       "      border: none;\n",
       "      border-radius: 50%;\n",
       "      cursor: pointer;\n",
       "      display: none;\n",
       "      fill: #1967D2;\n",
       "      height: 32px;\n",
       "      padding: 0 0 0 0;\n",
       "      width: 32px;\n",
       "    }\n",
       "\n",
       "    .colab-df-convert:hover {\n",
       "      background-color: #E2EBFA;\n",
       "      box-shadow: 0px 1px 2px rgba(60, 64, 67, 0.3), 0px 1px 3px 1px rgba(60, 64, 67, 0.15);\n",
       "      fill: #174EA6;\n",
       "    }\n",
       "\n",
       "    [theme=dark] .colab-df-convert {\n",
       "      background-color: #3B4455;\n",
       "      fill: #D2E3FC;\n",
       "    }\n",
       "\n",
       "    [theme=dark] .colab-df-convert:hover {\n",
       "      background-color: #434B5C;\n",
       "      box-shadow: 0px 1px 3px 1px rgba(0, 0, 0, 0.15);\n",
       "      filter: drop-shadow(0px 1px 2px rgba(0, 0, 0, 0.3));\n",
       "      fill: #FFFFFF;\n",
       "    }\n",
       "  </style>\n",
       "\n",
       "      <script>\n",
       "        const buttonEl =\n",
       "          document.querySelector('#df-97fa77fe-0e0e-4170-90e7-0514b26468b5 button.colab-df-convert');\n",
       "        buttonEl.style.display =\n",
       "          google.colab.kernel.accessAllowed ? 'block' : 'none';\n",
       "\n",
       "        async function convertToInteractive(key) {\n",
       "          const element = document.querySelector('#df-97fa77fe-0e0e-4170-90e7-0514b26468b5');\n",
       "          const dataTable =\n",
       "            await google.colab.kernel.invokeFunction('convertToInteractive',\n",
       "                                                     [key], {});\n",
       "          if (!dataTable) return;\n",
       "\n",
       "          const docLinkHtml = 'Like what you see? Visit the ' +\n",
       "            '<a target=\"_blank\" href=https://colab.research.google.com/notebooks/data_table.ipynb>data table notebook</a>'\n",
       "            + ' to learn more about interactive tables.';\n",
       "          element.innerHTML = '';\n",
       "          dataTable['output_type'] = 'display_data';\n",
       "          await google.colab.output.renderOutput(dataTable, element);\n",
       "          const docLink = document.createElement('div');\n",
       "          docLink.innerHTML = docLinkHtml;\n",
       "          element.appendChild(docLink);\n",
       "        }\n",
       "      </script>\n",
       "    </div>\n",
       "  </div>\n",
       "  "
      ],
      "text/plain": [
       "      Area  Compactness  Kernel.Length  Kernel.Width  Asymmetry.Coeff  \\\n",
       "0    15.26       0.8710          5.763         3.312            2.221   \n",
       "1    14.88       0.8811          5.554         3.333            1.018   \n",
       "2    14.29       0.9050          5.291         3.337            2.699   \n",
       "3    13.84       0.8955          5.324         3.379            2.259   \n",
       "4    16.14       0.9034          5.658         3.562            1.355   \n",
       "..     ...          ...            ...           ...              ...   \n",
       "194  12.19       0.8783          5.137         2.981            3.631   \n",
       "195  11.23       0.8511          5.140         2.795            4.325   \n",
       "196  13.20       0.8883          5.236         3.232            8.315   \n",
       "197  11.84       0.8521          5.175         2.836            3.598   \n",
       "198  12.30       0.8684          5.243         2.974            5.637   \n",
       "\n",
       "     Kernel.Groove  Type  \n",
       "0            5.220     1  \n",
       "1            4.956     1  \n",
       "2            4.825     1  \n",
       "3            4.805     1  \n",
       "4            5.175     1  \n",
       "..             ...   ...  \n",
       "194          4.870     3  \n",
       "195          5.003     3  \n",
       "196          5.056     3  \n",
       "197          5.044     3  \n",
       "198          5.063     3  \n",
       "\n",
       "[199 rows x 7 columns]"
      ]
     },
     "execution_count": 655,
     "metadata": {},
     "output_type": "execute_result"
    }
   ],
   "source": [
    "# Dataframe after dropping columns\n",
    "df"
   ]
  },
  {
   "cell_type": "markdown",
   "metadata": {
    "id": "GZ-43Hk1bQ2M"
   },
   "source": [
    "# 2] **Data Pre-processing and cleaning**\n"
   ]
  },
  {
   "cell_type": "markdown",
   "metadata": {
    "id": "_Uf2vKULdEnn"
   },
   "source": [
    "* Checking for NULL or missing values"
   ]
  },
  {
   "cell_type": "code",
   "execution_count": null,
   "metadata": {
    "colab": {
     "base_uri": "https://localhost:8080/"
    },
    "id": "GWo8r2MTa828",
    "outputId": "859ef4b0-c9a6-479d-b927-80fed32bd878"
   },
   "outputs": [
    {
     "data": {
      "text/plain": [
       "Area               0\n",
       "Compactness        0\n",
       "Kernel.Length      0\n",
       "Kernel.Width       0\n",
       "Asymmetry.Coeff    0\n",
       "Kernel.Groove      0\n",
       "Type               0\n",
       "dtype: int64"
      ]
     },
     "execution_count": 656,
     "metadata": {},
     "output_type": "execute_result"
    }
   ],
   "source": [
    "df.isnull().sum()"
   ]
  },
  {
   "cell_type": "markdown",
   "metadata": {
    "id": "r-4zN_w3dUpC"
   },
   "source": [
    "> The data does not have any NULL or missing values."
   ]
  },
  {
   "cell_type": "markdown",
   "metadata": {
    "id": "bnZVfiJi-s5L"
   },
   "source": [
    ">  **Class Imbalance : Since as checked in data visualisation step the data is not imbalance hence we donot need to do any processing for this step.**\n"
   ]
  },
  {
   "cell_type": "markdown",
   "metadata": {
    "id": "MbbRkKL9dh32"
   },
   "source": [
    "* Outlier analysis"
   ]
  },
  {
   "cell_type": "code",
   "execution_count": null,
   "metadata": {
    "id": "R2nkAsUNdSPc"
   },
   "outputs": [],
   "source": [
    "def show_outliers(df):\n",
    "    # boxplot will show the outliers in Q1 , Q3 , IQR and outliers\n",
    "    plt.figure(figsize=(25,10))\n",
    "    sns.boxplot(data=df, width=0.22)"
   ]
  },
  {
   "cell_type": "code",
   "execution_count": null,
   "metadata": {
    "colab": {
     "base_uri": "https://localhost:8080/",
     "height": 592
    },
    "id": "UmMPHZh4d2QT",
    "outputId": "9600c6c7-d496-4d07-b6c5-0aa35a854b3d"
   },
   "outputs": [
    {
     "data": {
      "image/png": "[encoded data removed]",
      "text/plain": [
       "<Figure size 1800x720 with 1 Axes>"
      ]
     },
     "metadata": {
      "needs_background": "light"
     },
     "output_type": "display_data"
    }
   ],
   "source": [
    "# show the outliers and then decide and remove them\n",
    "show_outliers(df)\n"
   ]
  },
  {
   "cell_type": "markdown",
   "metadata": {
    "id": "wNFhhyOGeQRP"
   },
   "source": [
    "We can observe from above output that \"Asymmetry.Coeff\" column has an outlier."
   ]
  },
  {
   "cell_type": "code",
   "execution_count": null,
   "metadata": {
    "colab": {
     "base_uri": "https://localhost:8080/",
     "height": 297
    },
    "id": "EwwvmD8yd6e2",
    "outputId": "10729e3a-33ee-418f-d9db-ff37b983cb95"
   },
   "outputs": [
    {
     "data": {
      "text/plain": [
       "<matplotlib.axes._subplots.AxesSubplot at 0x7f381905d910>"
      ]
     },
     "execution_count": 659,
     "metadata": {},
     "output_type": "execute_result"
    },
    {
     "data": {
      "image/png": "[encoded data removed]",
      "text/plain": [
       "<Figure size 432x288 with 1 Axes>"
      ]
     },
     "metadata": {
      "needs_background": "light"
     },
     "output_type": "display_data"
    }
   ],
   "source": [
    "# Getting a closer look at the outlier\n",
    "sns.boxplot(x=df['Asymmetry.Coeff'])"
   ]
  },
  {
   "cell_type": "code",
   "execution_count": null,
   "metadata": {
    "id": "Odlilf9BemUB"
   },
   "outputs": [],
   "source": [
    "# Removing the outlier\n",
    "def identify_outliers(data, featureName):\n",
    "    mean = np.mean(data[featureName])\n",
    "    stddev = np.std(data[featureName])\n",
    "    indices = []\n",
    "    for index, value in data[featureName].iteritems():\n",
    "        z_score = (value - mean) / stddev\n",
    "        if abs(z_score) > 3:\n",
    "            indices.append(index)\n",
    "    return indices"
   ]
  },
  {
   "cell_type": "code",
   "execution_count": null,
   "metadata": {
    "colab": {
     "base_uri": "https://localhost:8080/"
    },
    "id": "AynHEHHafD0G",
    "outputId": "c0c22d7f-24d0-46c4-857c-aed8b864744d"
   },
   "outputs": [
    {
     "name": "stdout",
     "output_type": "stream",
     "text": [
      "[196]\n",
      "Total outliers removed are 1\n"
     ]
    }
   ],
   "source": [
    "Asymmetry_Coeff_outlier = identify_outliers(df, 'Asymmetry.Coeff')\n",
    "df.drop(Asymmetry_Coeff_outlier, inplace=True)\n",
    "print(Asymmetry_Coeff_outlier)\n",
    "print('Total outliers removed are {}'.format(len(Asymmetry_Coeff_outlier)))"
   ]
  },
  {
   "cell_type": "markdown",
   "metadata": {
    "id": "2w9M3K1WQYFt"
   },
   "source": [
    "* Checking for skewness"
   ]
  },
  {
   "cell_type": "code",
   "execution_count": null,
   "metadata": {
    "colab": {
     "base_uri": "https://localhost:8080/"
    },
    "id": "9XCqKRzThOq7",
    "outputId": "bab3a09c-44d7-4214-fe2e-435cfceaa060"
   },
   "outputs": [
    {
     "data": {
      "text/plain": [
       "Area               0.365466\n",
       "Compactness       -0.522087\n",
       "Kernel.Length      0.492092\n",
       "Kernel.Width       0.116817\n",
       "Asymmetry.Coeff    0.168787\n",
       "Kernel.Groove      0.527182\n",
       "Type               0.018553\n",
       "dtype: float64"
      ]
     },
     "execution_count": 662,
     "metadata": {},
     "output_type": "execute_result"
    }
   ],
   "source": [
    "df.skew(axis = 0, skipna = True)"
   ]
  },
  {
   "cell_type": "markdown",
   "metadata": {
    "id": "P9kp1PZ9Qlo-"
   },
   "source": [
    "The skewness value for column \"Compactness\" is negative which means that there is asymmetry in the distribution corresponding to this column and the tail is larger towards the left hand side of the distribution. Also the skewness values for columns \"Area\",\"Asymmetry.Coeff\",\"Kernel.Groove\" and \"Type\" are positive so we can say that there is asymmetry in the distribution corresponding to these columns and the tail is larger towards the right hand side of the distribution. **bold text**"
   ]
  },
  {
   "cell_type": "markdown",
   "metadata": {
    "id": "2sFxvzUOQcgh"
   },
   "source": [
    "* Normalization\n",
    "\n",
    "For normalization, we used MinMaxScaler - to bring the data of each feature in a similar base range. This helps in better model estimations."
   ]
  },
  {
   "cell_type": "code",
   "execution_count": null,
   "metadata": {
    "id": "EUcZKdYBKF4S"
   },
   "outputs": [],
   "source": [
    "df = df.astype(float)\n",
    "cols = [\n",
    "    \"Area\",\"Compactness\",\"Kernel.Length\",\"Kernel.Width\",\"Asymmetry.Coeff\",\"Kernel.Groove\"\n",
    "]\n",
    "\n",
    "scaler = MinMaxScaler()\n",
    "# transform data\n",
    "df[cols] = scaler.fit_transform(df[cols])"
   ]
  },
  {
   "cell_type": "code",
   "execution_count": null,
   "metadata": {
    "colab": {
     "base_uri": "https://localhost:8080/",
     "height": 206
    },
    "id": "ndWh0FW5O3VJ",
    "outputId": "1b181f98-4809-4578-bed9-7881ba664b9b"
   },
   "outputs": [
    {
     "data": {
      "text/html": [
       "\n",
       "  <div id=\"df-bd0304f6-9237-4932-8e2f-a67074593645\">\n",
       "    <div class=\"colab-df-container\">\n",
       "      <div>\n",
       "<style scoped>\n",
       "    .dataframe tbody tr th:only-of-type {\n",
       "        vertical-align: middle;\n",
       "    }\n",
       "\n",
       "    .dataframe tbody tr th {\n",
       "        vertical-align: top;\n",
       "    }\n",
       "\n",
       "    .dataframe thead th {\n",
       "        text-align: right;\n",
       "    }\n",
       "</style>\n",
       "<table border=\"1\" class=\"dataframe\">\n",
       "  <thead>\n",
       "    <tr style=\"text-align: right;\">\n",
       "      <th></th>\n",
       "      <th>Area</th>\n",
       "      <th>Compactness</th>\n",
       "      <th>Kernel.Length</th>\n",
       "      <th>Kernel.Width</th>\n",
       "      <th>Asymmetry.Coeff</th>\n",
       "      <th>Kernel.Groove</th>\n",
       "      <th>Type</th>\n",
       "    </tr>\n",
       "  </thead>\n",
       "  <tbody>\n",
       "    <tr>\n",
       "      <th>0</th>\n",
       "      <td>0.440982</td>\n",
       "      <td>0.570780</td>\n",
       "      <td>0.486486</td>\n",
       "      <td>0.486101</td>\n",
       "      <td>0.215405</td>\n",
       "      <td>0.345150</td>\n",
       "      <td>1.0</td>\n",
       "    </tr>\n",
       "    <tr>\n",
       "      <th>1</th>\n",
       "      <td>0.405099</td>\n",
       "      <td>0.662432</td>\n",
       "      <td>0.368806</td>\n",
       "      <td>0.501069</td>\n",
       "      <td>0.037417</td>\n",
       "      <td>0.215165</td>\n",
       "      <td>1.0</td>\n",
       "    </tr>\n",
       "    <tr>\n",
       "      <th>2</th>\n",
       "      <td>0.349386</td>\n",
       "      <td>0.879310</td>\n",
       "      <td>0.220721</td>\n",
       "      <td>0.503920</td>\n",
       "      <td>0.286126</td>\n",
       "      <td>0.150665</td>\n",
       "      <td>1.0</td>\n",
       "    </tr>\n",
       "    <tr>\n",
       "      <th>3</th>\n",
       "      <td>0.306893</td>\n",
       "      <td>0.793103</td>\n",
       "      <td>0.239302</td>\n",
       "      <td>0.533856</td>\n",
       "      <td>0.221027</td>\n",
       "      <td>0.140817</td>\n",
       "      <td>1.0</td>\n",
       "    </tr>\n",
       "    <tr>\n",
       "      <th>4</th>\n",
       "      <td>0.524079</td>\n",
       "      <td>0.864791</td>\n",
       "      <td>0.427365</td>\n",
       "      <td>0.664291</td>\n",
       "      <td>0.087278</td>\n",
       "      <td>0.322994</td>\n",
       "      <td>1.0</td>\n",
       "    </tr>\n",
       "  </tbody>\n",
       "</table>\n",
       "</div>\n",
       "      <button class=\"colab-df-convert\" onclick=\"convertToInteractive('df-bd0304f6-9237-4932-8e2f-a67074593645')\"\n",
       "              title=\"Convert this dataframe to an interactive table.\"\n",
       "              style=\"display:none;\">\n",
       "        \n",
       "  <svg xmlns=\"http://www.w3.org/2000/svg\" height=\"24px\"viewBox=\"0 0 24 24\"\n",
       "       width=\"24px\">\n",
       "    <path d=\"M0 0h24v24H0V0z\" fill=\"none\"/>\n",
       "    <path d=\"M18.56 5.44l.94 2.06.94-2.06 2.06-.94-2.06-.94-.94-2.06-.94 2.06-2.06.94zm-11 1L8.5 8.5l.94-2.06 2.06-.94-2.06-.94L8.5 2.5l-.94 2.06-2.06.94zm10 10l.94 2.06.94-2.06 2.06-.94-2.06-.94-.94-2.06-.94 2.06-2.06.94z\"/><path d=\"M17.41 7.96l-1.37-1.37c-.4-.4-.92-.59-1.43-.59-.52 0-1.04.2-1.43.59L10.3 9.45l-7.72 7.72c-.78.78-.78 2.05 0 2.83L4 21.41c.39.39.9.59 1.41.59.51 0 1.02-.2 1.41-.59l7.78-7.78 2.81-2.81c.8-.78.8-2.07 0-2.86zM5.41 20L4 18.59l7.72-7.72 1.47 1.35L5.41 20z\"/>\n",
       "  </svg>\n",
       "      </button>\n",
       "      \n",
       "  <style>\n",
       "    .colab-df-container {\n",
       "      display:flex;\n",
       "      flex-wrap:wrap;\n",
       "      gap: 12px;\n",
       "    }\n",
       "\n",
       "    .colab-df-convert {\n",
       "      background-color: #E8F0FE;\n",
       "      border: none;\n",
       "      border-radius: 50%;\n",
       "      cursor: pointer;\n",
       "      display: none;\n",
       "      fill: #1967D2;\n",
       "      height: 32px;\n",
       "      padding: 0 0 0 0;\n",
       "      width: 32px;\n",
       "    }\n",
       "\n",
       "    .colab-df-convert:hover {\n",
       "      background-color: #E2EBFA;\n",
       "      box-shadow: 0px 1px 2px rgba(60, 64, 67, 0.3), 0px 1px 3px 1px rgba(60, 64, 67, 0.15);\n",
       "      fill: #174EA6;\n",
       "    }\n",
       "\n",
       "    [theme=dark] .colab-df-convert {\n",
       "      background-color: #3B4455;\n",
       "      fill: #D2E3FC;\n",
       "    }\n",
       "\n",
       "    [theme=dark] .colab-df-convert:hover {\n",
       "      background-color: #434B5C;\n",
       "      box-shadow: 0px 1px 3px 1px rgba(0, 0, 0, 0.15);\n",
       "      filter: drop-shadow(0px 1px 2px rgba(0, 0, 0, 0.3));\n",
       "      fill: #FFFFFF;\n",
       "    }\n",
       "  </style>\n",
       "\n",
       "      <script>\n",
       "        const buttonEl =\n",
       "          document.querySelector('#df-bd0304f6-9237-4932-8e2f-a67074593645 button.colab-df-convert');\n",
       "        buttonEl.style.display =\n",
       "          google.colab.kernel.accessAllowed ? 'block' : 'none';\n",
       "\n",
       "        async function convertToInteractive(key) {\n",
       "          const element = document.querySelector('#df-bd0304f6-9237-4932-8e2f-a67074593645');\n",
       "          const dataTable =\n",
       "            await google.colab.kernel.invokeFunction('convertToInteractive',\n",
       "                                                     [key], {});\n",
       "          if (!dataTable) return;\n",
       "\n",
       "          const docLinkHtml = 'Like what you see? Visit the ' +\n",
       "            '<a target=\"_blank\" href=https://colab.research.google.com/notebooks/data_table.ipynb>data table notebook</a>'\n",
       "            + ' to learn more about interactive tables.';\n",
       "          element.innerHTML = '';\n",
       "          dataTable['output_type'] = 'display_data';\n",
       "          await google.colab.output.renderOutput(dataTable, element);\n",
       "          const docLink = document.createElement('div');\n",
       "          docLink.innerHTML = docLinkHtml;\n",
       "          element.appendChild(docLink);\n",
       "        }\n",
       "      </script>\n",
       "    </div>\n",
       "  </div>\n",
       "  "
      ],
      "text/plain": [
       "       Area  Compactness  Kernel.Length  Kernel.Width  Asymmetry.Coeff  \\\n",
       "0  0.440982     0.570780       0.486486      0.486101         0.215405   \n",
       "1  0.405099     0.662432       0.368806      0.501069         0.037417   \n",
       "2  0.349386     0.879310       0.220721      0.503920         0.286126   \n",
       "3  0.306893     0.793103       0.239302      0.533856         0.221027   \n",
       "4  0.524079     0.864791       0.427365      0.664291         0.087278   \n",
       "\n",
       "   Kernel.Groove  Type  \n",
       "0       0.345150   1.0  \n",
       "1       0.215165   1.0  \n",
       "2       0.150665   1.0  \n",
       "3       0.140817   1.0  \n",
       "4       0.322994   1.0  "
      ]
     },
     "execution_count": 664,
     "metadata": {},
     "output_type": "execute_result"
    }
   ],
   "source": [
    "df.head()"
   ]
  },
  {
   "cell_type": "code",
   "execution_count": null,
   "metadata": {
    "colab": {
     "base_uri": "https://localhost:8080/",
     "height": 300
    },
    "id": "-bumisxkPDyU",
    "outputId": "8025588b-94b1-4f12-c248-e5f30df778ab"
   },
   "outputs": [
    {
     "data": {
      "text/html": [
       "\n",
       "  <div id=\"df-7e1d62bf-b481-464c-8986-d7bd57847306\">\n",
       "    <div class=\"colab-df-container\">\n",
       "      <div>\n",
       "<style scoped>\n",
       "    .dataframe tbody tr th:only-of-type {\n",
       "        vertical-align: middle;\n",
       "    }\n",
       "\n",
       "    .dataframe tbody tr th {\n",
       "        vertical-align: top;\n",
       "    }\n",
       "\n",
       "    .dataframe thead th {\n",
       "        text-align: right;\n",
       "    }\n",
       "</style>\n",
       "<table border=\"1\" class=\"dataframe\">\n",
       "  <thead>\n",
       "    <tr style=\"text-align: right;\">\n",
       "      <th></th>\n",
       "      <th>Area</th>\n",
       "      <th>Compactness</th>\n",
       "      <th>Kernel.Length</th>\n",
       "      <th>Kernel.Width</th>\n",
       "      <th>Asymmetry.Coeff</th>\n",
       "      <th>Kernel.Groove</th>\n",
       "      <th>Type</th>\n",
       "    </tr>\n",
       "  </thead>\n",
       "  <tbody>\n",
       "    <tr>\n",
       "      <th>count</th>\n",
       "      <td>198.000000</td>\n",
       "      <td>198.000000</td>\n",
       "      <td>198.000000</td>\n",
       "      <td>198.000000</td>\n",
       "      <td>198.000000</td>\n",
       "      <td>198.000000</td>\n",
       "      <td>198.000000</td>\n",
       "    </tr>\n",
       "    <tr>\n",
       "      <th>mean</th>\n",
       "      <td>0.409577</td>\n",
       "      <td>0.568260</td>\n",
       "      <td>0.420162</td>\n",
       "      <td>0.453102</td>\n",
       "      <td>0.430663</td>\n",
       "      <td>0.444852</td>\n",
       "      <td>1.989899</td>\n",
       "    </tr>\n",
       "    <tr>\n",
       "      <th>std</th>\n",
       "      <td>0.276185</td>\n",
       "      <td>0.211849</td>\n",
       "      <td>0.249868</td>\n",
       "      <td>0.270330</td>\n",
       "      <td>0.212684</td>\n",
       "      <td>0.242875</td>\n",
       "      <td>0.812278</td>\n",
       "    </tr>\n",
       "    <tr>\n",
       "      <th>min</th>\n",
       "      <td>0.000000</td>\n",
       "      <td>0.000000</td>\n",
       "      <td>0.000000</td>\n",
       "      <td>0.000000</td>\n",
       "      <td>0.000000</td>\n",
       "      <td>0.000000</td>\n",
       "      <td>1.000000</td>\n",
       "    </tr>\n",
       "    <tr>\n",
       "      <th>25%</th>\n",
       "      <td>0.162890</td>\n",
       "      <td>0.442831</td>\n",
       "      <td>0.208756</td>\n",
       "      <td>0.230756</td>\n",
       "      <td>0.265783</td>\n",
       "      <td>0.259478</td>\n",
       "      <td>1.000000</td>\n",
       "    </tr>\n",
       "    <tr>\n",
       "      <th>50%</th>\n",
       "      <td>0.364023</td>\n",
       "      <td>0.589837</td>\n",
       "      <td>0.362613</td>\n",
       "      <td>0.442979</td>\n",
       "      <td>0.423131</td>\n",
       "      <td>0.349828</td>\n",
       "      <td>2.000000</td>\n",
       "    </tr>\n",
       "    <tr>\n",
       "      <th>75%</th>\n",
       "      <td>0.652738</td>\n",
       "      <td>0.712114</td>\n",
       "      <td>0.622185</td>\n",
       "      <td>0.666607</td>\n",
       "      <td>0.592352</td>\n",
       "      <td>0.669621</td>\n",
       "      <td>3.000000</td>\n",
       "    </tr>\n",
       "    <tr>\n",
       "      <th>max</th>\n",
       "      <td>1.000000</td>\n",
       "      <td>1.000000</td>\n",
       "      <td>1.000000</td>\n",
       "      <td>1.000000</td>\n",
       "      <td>1.000000</td>\n",
       "      <td>1.000000</td>\n",
       "      <td>3.000000</td>\n",
       "    </tr>\n",
       "  </tbody>\n",
       "</table>\n",
       "</div>\n",
       "      <button class=\"colab-df-convert\" onclick=\"convertToInteractive('df-7e1d62bf-b481-464c-8986-d7bd57847306')\"\n",
       "              title=\"Convert this dataframe to an interactive table.\"\n",
       "              style=\"display:none;\">\n",
       "        \n",
       "  <svg xmlns=\"http://www.w3.org/2000/svg\" height=\"24px\"viewBox=\"0 0 24 24\"\n",
       "       width=\"24px\">\n",
       "    <path d=\"M0 0h24v24H0V0z\" fill=\"none\"/>\n",
       "    <path d=\"M18.56 5.44l.94 2.06.94-2.06 2.06-.94-2.06-.94-.94-2.06-.94 2.06-2.06.94zm-11 1L8.5 8.5l.94-2.06 2.06-.94-2.06-.94L8.5 2.5l-.94 2.06-2.06.94zm10 10l.94 2.06.94-2.06 2.06-.94-2.06-.94-.94-2.06-.94 2.06-2.06.94z\"/><path d=\"M17.41 7.96l-1.37-1.37c-.4-.4-.92-.59-1.43-.59-.52 0-1.04.2-1.43.59L10.3 9.45l-7.72 7.72c-.78.78-.78 2.05 0 2.83L4 21.41c.39.39.9.59 1.41.59.51 0 1.02-.2 1.41-.59l7.78-7.78 2.81-2.81c.8-.78.8-2.07 0-2.86zM5.41 20L4 18.59l7.72-7.72 1.47 1.35L5.41 20z\"/>\n",
       "  </svg>\n",
       "      </button>\n",
       "      \n",
       "  <style>\n",
       "    .colab-df-container {\n",
       "      display:flex;\n",
       "      flex-wrap:wrap;\n",
       "      gap: 12px;\n",
       "    }\n",
       "\n",
       "    .colab-df-convert {\n",
       "      background-color: #E8F0FE;\n",
       "      border: none;\n",
       "      border-radius: 50%;\n",
       "      cursor: pointer;\n",
       "      display: none;\n",
       "      fill: #1967D2;\n",
       "      height: 32px;\n",
       "      padding: 0 0 0 0;\n",
       "      width: 32px;\n",
       "    }\n",
       "\n",
       "    .colab-df-convert:hover {\n",
       "      background-color: #E2EBFA;\n",
       "      box-shadow: 0px 1px 2px rgba(60, 64, 67, 0.3), 0px 1px 3px 1px rgba(60, 64, 67, 0.15);\n",
       "      fill: #174EA6;\n",
       "    }\n",
       "\n",
       "    [theme=dark] .colab-df-convert {\n",
       "      background-color: #3B4455;\n",
       "      fill: #D2E3FC;\n",
       "    }\n",
       "\n",
       "    [theme=dark] .colab-df-convert:hover {\n",
       "      background-color: #434B5C;\n",
       "      box-shadow: 0px 1px 3px 1px rgba(0, 0, 0, 0.15);\n",
       "      filter: drop-shadow(0px 1px 2px rgba(0, 0, 0, 0.3));\n",
       "      fill: #FFFFFF;\n",
       "    }\n",
       "  </style>\n",
       "\n",
       "      <script>\n",
       "        const buttonEl =\n",
       "          document.querySelector('#df-7e1d62bf-b481-464c-8986-d7bd57847306 button.colab-df-convert');\n",
       "        buttonEl.style.display =\n",
       "          google.colab.kernel.accessAllowed ? 'block' : 'none';\n",
       "\n",
       "        async function convertToInteractive(key) {\n",
       "          const element = document.querySelector('#df-7e1d62bf-b481-464c-8986-d7bd57847306');\n",
       "          const dataTable =\n",
       "            await google.colab.kernel.invokeFunction('convertToInteractive',\n",
       "                                                     [key], {});\n",
       "          if (!dataTable) return;\n",
       "\n",
       "          const docLinkHtml = 'Like what you see? Visit the ' +\n",
       "            '<a target=\"_blank\" href=https://colab.research.google.com/notebooks/data_table.ipynb>data table notebook</a>'\n",
       "            + ' to learn more about interactive tables.';\n",
       "          element.innerHTML = '';\n",
       "          dataTable['output_type'] = 'display_data';\n",
       "          await google.colab.output.renderOutput(dataTable, element);\n",
       "          const docLink = document.createElement('div');\n",
       "          docLink.innerHTML = docLinkHtml;\n",
       "          element.appendChild(docLink);\n",
       "        }\n",
       "      </script>\n",
       "    </div>\n",
       "  </div>\n",
       "  "
      ],
      "text/plain": [
       "             Area  Compactness  Kernel.Length  Kernel.Width  Asymmetry.Coeff  \\\n",
       "count  198.000000   198.000000     198.000000    198.000000       198.000000   \n",
       "mean     0.409577     0.568260       0.420162      0.453102         0.430663   \n",
       "std      0.276185     0.211849       0.249868      0.270330         0.212684   \n",
       "min      0.000000     0.000000       0.000000      0.000000         0.000000   \n",
       "25%      0.162890     0.442831       0.208756      0.230756         0.265783   \n",
       "50%      0.364023     0.589837       0.362613      0.442979         0.423131   \n",
       "75%      0.652738     0.712114       0.622185      0.666607         0.592352   \n",
       "max      1.000000     1.000000       1.000000      1.000000         1.000000   \n",
       "\n",
       "       Kernel.Groove        Type  \n",
       "count     198.000000  198.000000  \n",
       "mean        0.444852    1.989899  \n",
       "std         0.242875    0.812278  \n",
       "min         0.000000    1.000000  \n",
       "25%         0.259478    1.000000  \n",
       "50%         0.349828    2.000000  \n",
       "75%         0.669621    3.000000  \n",
       "max         1.000000    3.000000  "
      ]
     },
     "execution_count": 665,
     "metadata": {},
     "output_type": "execute_result"
    }
   ],
   "source": [
    "df.describe()"
   ]
  },
  {
   "cell_type": "markdown",
   "metadata": {
    "id": "utUi0YgEW8wu"
   },
   "source": [
    "# 3] **Model Building**\n"
   ]
  },
  {
   "cell_type": "markdown",
   "metadata": {
    "id": "qlD_6rLJXc2L"
   },
   "source": [
    "Getting the X and y axis data for test data preparation"
   ]
  },
  {
   "cell_type": "code",
   "execution_count": null,
   "metadata": {
    "id": "mh9tFkurPXP4"
   },
   "outputs": [],
   "source": [
    "X = df.iloc[:,0:6]\n",
    "y = df['Type']\n"
   ]
  },
  {
   "cell_type": "code",
   "execution_count": null,
   "metadata": {
    "colab": {
     "base_uri": "https://localhost:8080/",
     "height": 112
    },
    "id": "fVu72zo5X54g",
    "outputId": "bc09c2ce-5daf-41e0-c255-9aadc18f5f04"
   },
   "outputs": [
    {
     "data": {
      "text/html": [
       "\n",
       "  <div id=\"df-a1883f9c-18b0-4d3f-90c2-27195ab25389\">\n",
       "    <div class=\"colab-df-container\">\n",
       "      <div>\n",
       "<style scoped>\n",
       "    .dataframe tbody tr th:only-of-type {\n",
       "        vertical-align: middle;\n",
       "    }\n",
       "\n",
       "    .dataframe tbody tr th {\n",
       "        vertical-align: top;\n",
       "    }\n",
       "\n",
       "    .dataframe thead th {\n",
       "        text-align: right;\n",
       "    }\n",
       "</style>\n",
       "<table border=\"1\" class=\"dataframe\">\n",
       "  <thead>\n",
       "    <tr style=\"text-align: right;\">\n",
       "      <th></th>\n",
       "      <th>Area</th>\n",
       "      <th>Compactness</th>\n",
       "      <th>Kernel.Length</th>\n",
       "      <th>Kernel.Width</th>\n",
       "      <th>Asymmetry.Coeff</th>\n",
       "      <th>Kernel.Groove</th>\n",
       "    </tr>\n",
       "  </thead>\n",
       "  <tbody>\n",
       "    <tr>\n",
       "      <th>0</th>\n",
       "      <td>0.440982</td>\n",
       "      <td>0.570780</td>\n",
       "      <td>0.486486</td>\n",
       "      <td>0.486101</td>\n",
       "      <td>0.215405</td>\n",
       "      <td>0.345150</td>\n",
       "    </tr>\n",
       "    <tr>\n",
       "      <th>1</th>\n",
       "      <td>0.405099</td>\n",
       "      <td>0.662432</td>\n",
       "      <td>0.368806</td>\n",
       "      <td>0.501069</td>\n",
       "      <td>0.037417</td>\n",
       "      <td>0.215165</td>\n",
       "    </tr>\n",
       "  </tbody>\n",
       "</table>\n",
       "</div>\n",
       "      <button class=\"colab-df-convert\" onclick=\"convertToInteractive('df-a1883f9c-18b0-4d3f-90c2-27195ab25389')\"\n",
       "              title=\"Convert this dataframe to an interactive table.\"\n",
       "              style=\"display:none;\">\n",
       "        \n",
       "  <svg xmlns=\"http://www.w3.org/2000/svg\" height=\"24px\"viewBox=\"0 0 24 24\"\n",
       "       width=\"24px\">\n",
       "    <path d=\"M0 0h24v24H0V0z\" fill=\"none\"/>\n",
       "    <path d=\"M18.56 5.44l.94 2.06.94-2.06 2.06-.94-2.06-.94-.94-2.06-.94 2.06-2.06.94zm-11 1L8.5 8.5l.94-2.06 2.06-.94-2.06-.94L8.5 2.5l-.94 2.06-2.06.94zm10 10l.94 2.06.94-2.06 2.06-.94-2.06-.94-.94-2.06-.94 2.06-2.06.94z\"/><path d=\"M17.41 7.96l-1.37-1.37c-.4-.4-.92-.59-1.43-.59-.52 0-1.04.2-1.43.59L10.3 9.45l-7.72 7.72c-.78.78-.78 2.05 0 2.83L4 21.41c.39.39.9.59 1.41.59.51 0 1.02-.2 1.41-.59l7.78-7.78 2.81-2.81c.8-.78.8-2.07 0-2.86zM5.41 20L4 18.59l7.72-7.72 1.47 1.35L5.41 20z\"/>\n",
       "  </svg>\n",
       "      </button>\n",
       "      \n",
       "  <style>\n",
       "    .colab-df-container {\n",
       "      display:flex;\n",
       "      flex-wrap:wrap;\n",
       "      gap: 12px;\n",
       "    }\n",
       "\n",
       "    .colab-df-convert {\n",
       "      background-color: #E8F0FE;\n",
       "      border: none;\n",
       "      border-radius: 50%;\n",
       "      cursor: pointer;\n",
       "      display: none;\n",
       "      fill: #1967D2;\n",
       "      height: 32px;\n",
       "      padding: 0 0 0 0;\n",
       "      width: 32px;\n",
       "    }\n",
       "\n",
       "    .colab-df-convert:hover {\n",
       "      background-color: #E2EBFA;\n",
       "      box-shadow: 0px 1px 2px rgba(60, 64, 67, 0.3), 0px 1px 3px 1px rgba(60, 64, 67, 0.15);\n",
       "      fill: #174EA6;\n",
       "    }\n",
       "\n",
       "    [theme=dark] .colab-df-convert {\n",
       "      background-color: #3B4455;\n",
       "      fill: #D2E3FC;\n",
       "    }\n",
       "\n",
       "    [theme=dark] .colab-df-convert:hover {\n",
       "      background-color: #434B5C;\n",
       "      box-shadow: 0px 1px 3px 1px rgba(0, 0, 0, 0.15);\n",
       "      filter: drop-shadow(0px 1px 2px rgba(0, 0, 0, 0.3));\n",
       "      fill: #FFFFFF;\n",
       "    }\n",
       "  </style>\n",
       "\n",
       "      <script>\n",
       "        const buttonEl =\n",
       "          document.querySelector('#df-a1883f9c-18b0-4d3f-90c2-27195ab25389 button.colab-df-convert');\n",
       "        buttonEl.style.display =\n",
       "          google.colab.kernel.accessAllowed ? 'block' : 'none';\n",
       "\n",
       "        async function convertToInteractive(key) {\n",
       "          const element = document.querySelector('#df-a1883f9c-18b0-4d3f-90c2-27195ab25389');\n",
       "          const dataTable =\n",
       "            await google.colab.kernel.invokeFunction('convertToInteractive',\n",
       "                                                     [key], {});\n",
       "          if (!dataTable) return;\n",
       "\n",
       "          const docLinkHtml = 'Like what you see? Visit the ' +\n",
       "            '<a target=\"_blank\" href=https://colab.research.google.com/notebooks/data_table.ipynb>data table notebook</a>'\n",
       "            + ' to learn more about interactive tables.';\n",
       "          element.innerHTML = '';\n",
       "          dataTable['output_type'] = 'display_data';\n",
       "          await google.colab.output.renderOutput(dataTable, element);\n",
       "          const docLink = document.createElement('div');\n",
       "          docLink.innerHTML = docLinkHtml;\n",
       "          element.appendChild(docLink);\n",
       "        }\n",
       "      </script>\n",
       "    </div>\n",
       "  </div>\n",
       "  "
      ],
      "text/plain": [
       "       Area  Compactness  Kernel.Length  Kernel.Width  Asymmetry.Coeff  \\\n",
       "0  0.440982     0.570780       0.486486      0.486101         0.215405   \n",
       "1  0.405099     0.662432       0.368806      0.501069         0.037417   \n",
       "\n",
       "   Kernel.Groove  \n",
       "0       0.345150  \n",
       "1       0.215165  "
      ]
     },
     "execution_count": 667,
     "metadata": {},
     "output_type": "execute_result"
    }
   ],
   "source": [
    "X.head(2)"
   ]
  },
  {
   "cell_type": "code",
   "execution_count": null,
   "metadata": {
    "colab": {
     "base_uri": "https://localhost:8080/"
    },
    "id": "Nn5VySHrX7yq",
    "outputId": "ab4e0308-d9b7-4327-8b06-cd1af7e9f10a"
   },
   "outputs": [
    {
     "data": {
      "text/plain": [
       "0    1.0\n",
       "1    1.0\n",
       "Name: Type, dtype: float64"
      ]
     },
     "execution_count": 668,
     "metadata": {},
     "output_type": "execute_result"
    }
   ],
   "source": [
    "y.head(2)"
   ]
  },
  {
   "cell_type": "code",
   "execution_count": null,
   "metadata": {
    "id": "v1-OuMceZRZL"
   },
   "outputs": [],
   "source": [
    "X_train, X_test, y_train, y_test = train_test_split(X, y, test_size=0.20, random_state = 1)"
   ]
  },
  {
   "cell_type": "markdown",
   "metadata": {
    "id": "al_ix2fDYzWF"
   },
   "source": [
    "Splitting the dataset into training and test datasets with percentage allocation as :\n",
    "Train = 80% [ x_train1,y_train1] = 80%     \n",
    "Test = 20% [ x_test1,y_test1] = 20% ;"
   ]
  },
  {
   "cell_type": "markdown",
   "metadata": {
    "id": "6_U4OqCfZp3o"
   },
   "source": [
    "This train_test_split method will return a tuple with two DataFrames containing the training and testing data set."
   ]
  },
  {
   "cell_type": "markdown",
   "metadata": {
    "id": "TFCx8VhOACjc"
   },
   "source": [
    "Building Models One by One . First Decision Tree Classifier and then KNN ."
   ]
  },
  {
   "cell_type": "markdown",
   "metadata": {
    "id": "Dds88Jn2Kten"
   },
   "source": [
    "# **Decision Tree Classifier Model**"
   ]
  },
  {
   "cell_type": "markdown",
   "metadata": {
    "id": "fNtfWqoIUIXB"
   },
   "source": [
    "Decision Tree - It has many parameters to choose to decide which is best fit for a given dataset. \n",
    "Example of parameters to choose are:\n",
    " \n",
    "\n",
    "1.   Best Split (Function to measure the quality of a split ) : Gini / Entropy \n",
    "Default being Gini in below sklearn.DecisionTreeClassifier\n",
    "\n",
    "2.   max_depth:  maximum depth of tree for which split has to be carried out . It can lead to overfitting if we choose to high value.\n",
    "\n",
    "3. min_samples_split : minium smaples required to split the internal nodes . Default 2 . This is used to control over fitting but way too high lead to under fitting .\n",
    "\n",
    "4. min_samples_leaf : minimum number of samples required to be at a leaf node . Default is 1 . This is also used to control over fitting by creating way too many small branches\n",
    "\n",
    "Similarly we have many other parameters like min_weight_fraction_leaf , max_features, min_impurity_decrease etc . For our case we will try to find the best parameters by considering best_split , max_depth , min_sample_split, min_samples_leaf and keeping the randomness value same across .\n"
   ]
  },
  {
   "cell_type": "markdown",
   "metadata": {
    "id": "bruUT6J4T6U0"
   },
   "source": [
    "Let's first try decision tree with default hyperparameters, apart from max_depth which is 2 . Just considering it for example , we shall tune it later. "
   ]
  },
  {
   "cell_type": "code",
   "execution_count": null,
   "metadata": {
    "id": "rW6pc6V3Zsr5"
   },
   "outputs": [],
   "source": [
    "decision_tree_clf = DecisionTreeClassifier(max_depth=2)\n",
    "decision_tree_clf.fit(X_train, y_train)\n",
    "y_train_pred = decision_tree_clf.predict(X_train)\n",
    "y_test_pred = decision_tree_clf.predict(X_test)\n"
   ]
  },
  {
   "cell_type": "code",
   "execution_count": null,
   "metadata": {
    "colab": {
     "base_uri": "https://localhost:8080/"
    },
    "id": "jh9mwIPKMpZS",
    "outputId": "71fe030d-fdf5-4477-8fe8-a90e6b21ef2f"
   },
   "outputs": [
    {
     "name": "stdout",
     "output_type": "stream",
     "text": [
      "Accuracy score for Default DecisionTreeClassifier on train data:  93.67088607594937\n",
      "Accuracy score for Default DecisionTreeClassifier on test  data 87.5\n"
     ]
    }
   ],
   "source": [
    "# Below is accuracy score of default hyper parameters decision tree  classifier on train and test data . \n",
    "# We can use these to compare with best parameter decision tree classifier result.\n",
    "print(\"Accuracy score for Default DecisionTreeClassifier on train data: \", accuracy_score(y_train, y_train_pred) * 100)\n",
    "print(\"Accuracy score for Default DecisionTreeClassifier on test  data\", accuracy_score(y_test, y_test_pred) * 100)\n"
   ]
  },
  {
   "cell_type": "markdown",
   "metadata": {
    "id": "6TQJOhLbvX-l"
   },
   "source": [
    "**Finding Best DecisionTree Parameters** "
   ]
  },
  {
   "cell_type": "markdown",
   "metadata": {
    "id": "TWpqz4U9aedU"
   },
   "source": [
    "Tunning/Finding the best parameters like max_depth , best_fit(gini/entropy) , min_samples_leaf to improve accuracy and to avoid over and under fitting.\n",
    "For these we will consider a sample hyper params list by picking the data in different data ranges and run different permutations on it. We should ideally have values in range list(range(1,len(X))) . But these values will consume lot of machine power and many combinations , hence we will randomanly pick certain values and try to find best fit parameters"
   ]
  },
  {
   "cell_type": "code",
   "execution_count": null,
   "metadata": {
    "id": "FHCyV1XQa0g8"
   },
   "outputs": [],
   "source": [
    "# Sample parameter's based with different max_depth , min_samples_leaf and best_split function of gini or entropy. \n",
    "sample_hyper_params = {\n",
    "    'max_depth': [2, 3, 5, 6],\n",
    "    'min_samples_leaf': [1, 4, 5, 6],\n",
    "    'criterion': [\"gini\", \"entropy\"]\n",
    "}"
   ]
  },
  {
   "cell_type": "code",
   "execution_count": null,
   "metadata": {
    "colab": {
     "base_uri": "https://localhost:8080/"
    },
    "id": "hMxHms80ckDi",
    "outputId": "6d7b9299-fd9d-41f0-8dae-a15003d7dd4d"
   },
   "outputs": [
    {
     "name": "stdout",
     "output_type": "stream",
     "text": [
      "Fitting 4 folds for each of 32 candidates, totalling 128 fits\n"
     ]
    },
    {
     "data": {
      "text/plain": [
       "GridSearchCV(cv=4, estimator=DecisionTreeClassifier(), n_jobs=-1,\n",
       "             param_grid={'criterion': ['gini', 'entropy'],\n",
       "                         'max_depth': [2, 3, 5, 6],\n",
       "                         'min_samples_leaf': [1, 4, 5, 6]},\n",
       "             scoring='accuracy', verbose=1)"
      ]
     },
     "execution_count": 673,
     "metadata": {},
     "output_type": "execute_result"
    }
   ],
   "source": [
    "decision_tree_clf = DecisionTreeClassifier()\n",
    "\n",
    "# As we can see there are various combinations we need to try so as to arrive at best parameter combination giving highest accuracy . \n",
    "# Hence to solve this we shall use GridSearchCV. This will help us with trying different combinations .\n",
    "# GridSearchCV which will take the algo , sample parameters etc as inputs and gives the various results like mean_test_score with every possible hyper params.\n",
    "grid_search = GridSearchCV(estimator=decision_tree_clf, \n",
    "                           param_grid=sample_hyper_params, \n",
    "                           cv=4, n_jobs=-1, verbose=1, scoring = \"accuracy\")\n",
    "grid_search.fit(X_train, y_train)\n"
   ]
  },
  {
   "cell_type": "code",
   "execution_count": null,
   "metadata": {
    "colab": {
     "base_uri": "https://localhost:8080/"
    },
    "id": "PKG78TOnf8uW",
    "outputId": "6e1d78ce-d036-4ed8-c820-b699fcd168f6"
   },
   "outputs": [
    {
     "name": "stdout",
     "output_type": "stream",
     "text": [
      "Accuracy score for Best DecisionTreeClassifier on train data:  99.36708860759494\n",
      "Accuracy score for Best DecisionTreeClassifier on test  data 90.0\n",
      "\u001b[1mThe Best Parameters for Best DecisionTreeClassifier are : {'criterion': 'gini', 'max_depth': 6, 'min_samples_leaf': 1} \u001b[0m\n"
     ]
    }
   ],
   "source": [
    "# Printing  accuracy score of best decision tree on train and test data . \n",
    "best_decision_classifier = grid_search.best_estimator_\n",
    "best_decision_tree_parameters = grid_search.best_params_\n",
    "print(\"Accuracy score for Best DecisionTreeClassifier on train data: \", accuracy_score(y_train, best_decision_classifier.predict(X_train)) * 100)\n",
    "print(\"Accuracy score for Best DecisionTreeClassifier on test  data\", accuracy_score(y_test, best_decision_classifier.predict(X_test)) * 100)\n",
    "print(f'\\033[1mThe Best Parameters for Best DecisionTreeClassifier are : {best_decision_tree_parameters} \\033[0m')\n"
   ]
  },
  {
   "cell_type": "markdown",
   "metadata": {
    "id": "3_jRIZ3V4n7w"
   },
   "source": [
    "**Justification for best parameters** : When we compare the accuracy score of default decision tree classifier and Accuracy score of best decision tree classifier , the accuracy of score has certainity increased for both test and train data example 6% on train data and 3% on test data . Hence we need to consider the above mentioned parameters as best parameters."
   ]
  },
  {
   "cell_type": "markdown",
   "metadata": {
    "id": "TjIYHWSfmlvT"
   },
   "source": [
    "# **K-Nearest Neighbor(KNN)  Model**\n",
    "\n",
    "\n",
    "\n"
   ]
  },
  {
   "cell_type": "markdown",
   "metadata": {
    "id": "nO94U2pm53E_"
   },
   "source": [
    "1. Trying building the KNN Model with default parameters and then try to find the best parameters like example leaf_size, n_neighbors etc."
   ]
  },
  {
   "cell_type": "code",
   "execution_count": null,
   "metadata": {
    "id": "CsEo1yG6mj6B"
   },
   "outputs": [],
   "source": [
    "#Create  Default KNN Model Object with default parameters.\n",
    "knn = KNeighborsClassifier()\n",
    "#Training the model.\n",
    "knn.fit(X_train, y_train)\n",
    "#Predict train data set.\n",
    "y_train_pred = knn.predict(X_train)\n",
    "#Predict test data set.\n",
    "y_test_pred = knn.predict(X_test)\n"
   ]
  },
  {
   "cell_type": "code",
   "execution_count": null,
   "metadata": {
    "colab": {
     "base_uri": "https://localhost:8080/"
    },
    "id": "NpcSi9iwnSEn",
    "outputId": "7f76a4f3-7971-47fd-f9f7-b7ddce039b4d"
   },
   "outputs": [
    {
     "name": "stdout",
     "output_type": "stream",
     "text": [
      "Accuracy score for Default KNN  Model on train data:  95.56962025316456\n",
      "Accuracy score for Default KNN Modeal on test  data 90.0\n"
     ]
    }
   ],
   "source": [
    "# Below is accuracy score of default parameters KNN  classifier on train and test data . \n",
    "# We can use these to compare with best parameter KNN classifier result.\n",
    "print(\"Accuracy score for Default KNN  Model on train data: \", accuracy_score(y_train, y_train_pred) * 100)\n",
    "print(\"Accuracy score for Default KNN Modeal on test  data\", accuracy_score(y_test, y_test_pred) * 100)\n"
   ]
  },
  {
   "cell_type": "markdown",
   "metadata": {
    "id": "0zmWvGAw4rzP"
   },
   "source": [
    "As printed above is the accuracy score for default parameter knn model .\n",
    "We can still improve the model performance, let's try to do that by Tuning / finding the best Hyperparameters like leaf_size, n_neighbors and p (p=1 means Manhattan distance and p=2 means Euclidean distance)."
   ]
  },
  {
   "cell_type": "code",
   "execution_count": null,
   "metadata": {
    "id": "nVZJXiu88Xs4"
   },
   "outputs": [],
   "source": [
    "# Sample parameter's based with different leaf_size , n_neighbors and p value ie  p=1 means Manhattan distance and p=2 means Euclidean distance. \n",
    "sample_knn_hyper_params = {\n",
    "    'leaf_size': list(range(1,5)),\n",
    "    'n_neighbors': list(range(1,5)),\n",
    "    'p': [1,2]\n",
    "}"
   ]
  },
  {
   "cell_type": "code",
   "execution_count": null,
   "metadata": {
    "colab": {
     "base_uri": "https://localhost:8080/"
    },
    "id": "4SgbOTNp5kDi",
    "outputId": "60a2bbbc-cc14-4779-9efa-f933060ba1d0"
   },
   "outputs": [
    {
     "name": "stdout",
     "output_type": "stream",
     "text": [
      "Fitting 2 folds for each of 32 candidates, totalling 64 fits\n"
     ]
    },
    {
     "data": {
      "text/plain": [
       "GridSearchCV(cv=2, estimator=KNeighborsClassifier(), n_jobs=-1,\n",
       "             param_grid={'leaf_size': [1, 2, 3, 4], 'n_neighbors': [1, 2, 3, 4],\n",
       "                         'p': [1, 2]},\n",
       "             scoring='accuracy', verbose=1)"
      ]
     },
     "execution_count": 678,
     "metadata": {},
     "output_type": "execute_result"
    }
   ],
   "source": [
    "#Create new KNN object\n",
    "knn_tree_classifier = KNeighborsClassifier()\n",
    "\n",
    "# As we can see there are various combinations we need to try so as to arrive at best parameter combination giving highest accuracy . \n",
    "# Hence to solve this we shall use GridSearchCV. This will help us with trying different combinations .\n",
    "# GridSearchCV which will take the algo , sample parameters etc as inputs and gives the various results like mean_test_score with every possible hyper params.\n",
    "knn_grid_search = GridSearchCV(estimator=knn_tree_classifier, \n",
    "                           param_grid=sample_knn_hyper_params, \n",
    "                           cv=2, n_jobs=-1, verbose=1, scoring = \"accuracy\")\n",
    "knn_grid_search.fit(X_train, y_train)\n",
    "\n"
   ]
  },
  {
   "cell_type": "code",
   "execution_count": null,
   "metadata": {
    "colab": {
     "base_uri": "https://localhost:8080/"
    },
    "id": "pUlx-NZHGB07",
    "outputId": "f7ae72b2-7fb2-4577-e650-aa72061e912d"
   },
   "outputs": [
    {
     "name": "stdout",
     "output_type": "stream",
     "text": [
      "Accuracy score for Best KNNClassifier on train data:  96.83544303797468\n",
      "Accuracy score for Best KNNClassifier on test  data 90.0\n",
      "\u001b[1mThe Best Parameters for Best KNNClassifier are : {'leaf_size': 1, 'n_neighbors': 4, 'p': 1} \u001b[0m\n"
     ]
    }
   ],
   "source": [
    "# Printing  accuracy score of best knn classifier on train and test data . \n",
    "best_knn_classifier = knn_grid_search.best_estimator_\n",
    "best_knn_parameters = knn_grid_search.best_params_\n",
    "print(\"Accuracy score for Best KNNClassifier on train data: \", accuracy_score(y_train, best_knn_classifier.predict(X_train)) * 100)\n",
    "print(\"Accuracy score for Best KNNClassifier on test  data\", accuracy_score(y_test, best_knn_classifier.predict(X_test)) * 100)\n",
    "print(f'\\033[1mThe Best Parameters for Best KNNClassifier are : {best_knn_parameters} \\033[0m')\n"
   ]
  },
  {
   "cell_type": "markdown",
   "metadata": {
    "id": "39IToKDr715H"
   },
   "source": [
    "**Justification for best parameters** : When we compare the accuracy score of default knn classifier and Accuracy score of best knn classifier , the accuracy of score has slightly increased for training data. \n",
    "\n",
    "From GridSearch, it can be seen that the best number of leaf_size is 1 while the optimal distance method is Manhattan or p = 1.\n",
    "Then the most optimal number of K is 4."
   ]
  },
  {
   "cell_type": "markdown",
   "metadata": {
    "id": "LumVdpotJ2EJ"
   },
   "source": [
    "# Performance Evaluation"
   ]
  },
  {
   "cell_type": "code",
   "execution_count": null,
   "metadata": {
    "id": "im67W43VKuqy"
   },
   "outputs": [],
   "source": [
    "classifier_data={}\n",
    "regularization_data = {}\n",
    "list_training_error = []\n",
    "list_testing_error = []\n",
    "\n",
    "\n",
    "# Method to extract evaluation parameters for given test data and its predication result  \n",
    "def extract_evaluation_parameters(y_test, predictions):\n",
    "    \"\"\"\n",
    "    using following evaluation metrics\n",
    "    Accuracy\n",
    "    Precision\n",
    "    Recall\n",
    "    F1 Score\n",
    "    Confusion Matrix\n",
    "\n",
    "    to be computed from test data and predictions\n",
    "    :param y_test:\n",
    "    :param predictions:\n",
    "    :return:\n",
    "    \"\"\"\n",
    "    eval={}\n",
    "   \n",
    "    eval.__setitem__('accuracy % : ', accuracy_score(y_test, predictions) * 100)\n",
    "    eval.__setitem__('precision % :', precision_score(y_test, predictions, average='macro') * 100)\n",
    "    eval.__setitem__('recall % :', recall_score(y_test, predictions, average='macro') * 100)\n",
    "    eval.__setitem__('f1_score % :', f1_score(y_test, predictions, average='macro')* 100)\n",
    "    eval.__setitem__('confusion_matrix', confusion_matrix(y_test, predictions))\n",
    "    df_eval=pd.DataFrame.from_dict(eval, orient='index')\n",
    "    return df_eval\n",
    "\n",
    "# Printing model evaluation results\n",
    "def print_model_evaluation_results(classifier_data):\n",
    "    # run evaluation metrics for each classification model.\n",
    "    # Among the various run of classifications, we have kept the one which produced best accuracy. This selection criteria can be changed.\n",
    "    for classifier in classifier_data:\n",
    "        val = classifier_data.get(classifier)\n",
    "        print(\"\\n\")\n",
    "        print(f'{classifier} accuracy result on test data : ')\n",
    "        print(val['evaluation_matrices'])\n",
    "        print(\"Classification Report :\\n\")\n",
    "        print(classification_report(val['y_test'], val['predictions']))\n",
    "\n",
    "\n",
    "\n",
    "# Method to calculate regularize metrics for the predict score of a given model \n",
    "# Model sometimes can be overfitted or under fitted. \n",
    "# Hence we compute regularization matrices to help us reduce the over and under fitting problems\n",
    "# Example Mean Absolute Error (MAE): MAE measures the average magnitude of the errors in a set of predictions, without considering their direction. \n",
    "def regularization_metrics(y_test, predictions):\n",
    "    \"\"\"\n",
    "    Capture the Regularization Metrics for given test data\n",
    "    \"\"\"\n",
    "\n",
    "    # calculate R^2 value, MAE, MSE, RMSE\n",
    "\n",
    "    r_metrics = {}\n",
    "    r_metrics['R2'] = r2_score(y_test, predictions)\n",
    "    r_metrics['MAE'] = metrics.mean_absolute_error(y_test, predictions)\n",
    "    r_metrics['MSE'] = metrics.mean_squared_error(y_test, predictions)\n",
    "    r_metrics['RMSE'] = np.sqrt(metrics.mean_squared_error(y_test, predictions))\n",
    "\n",
    "    return r_metrics    \n",
    "\n",
    "# We will run the model on test data and capturing both the results of DecisionTree and KNN classifiers\n",
    "def run_model_on_test_data(model_type, X, y, train_index, test_index, classifier):\n",
    "    global regularization_data\n",
    "    # Prepare Train and Test data\n",
    "    X_train, X_test = X.iloc[train_index], X.iloc[test_index]\n",
    "    y_train, y_test = y.iloc[train_index], y.iloc[test_index]\n",
    "    # Y_test : Predict the response for test dataset and Finding the accuracy score of the model\n",
    "    y_test_predictions = classifier.predict(X_test)\n",
    "    y_test_accuracy = round(accuracy_score(y_test, y_test_predictions), 5)\n",
    "\n",
    "    eval_matrices = extract_evaluation_parameters(y_test, y_test_predictions)\n",
    "\n",
    "    r_train_matrices = regularization_metrics(y_train, classifier.predict(X_train))\n",
    "    r_test_matrices = regularization_metrics(y_test, y_test_predictions)\n",
    "\n",
    "    reg_model_data = regularization_data.get(model_type) or {model_type:{}}\n",
    "    list_training_error = reg_model_data.get('training_error') or []\n",
    "    list_testing_error = reg_model_data.get('test_error') or []\n",
    "    list_training_error.append(mean_absolute_error(y_train, classifier.predict(X_train)))\n",
    "    list_testing_error.append(mean_absolute_error(y_test, y_test_predictions))\n",
    "    reg_model_data['training_error'] = list_training_error\n",
    "    reg_model_data['test_error'] = list_testing_error\n",
    "    regularization_data[model_type] = reg_model_data\n",
    "\n",
    "    #Storing the result of classfier with alpha which produces best accuracy \n",
    "    #Taking the worst accuracy model for Each Model Type\n",
    "    if(model_type in classifier_data):\n",
    "        if(classifier_data.get(model_type).get('accuracy') > y_test_accuracy ):\n",
    "            classifier_data.update({model_type: {'classifier':classifier, 'accuracy':y_test_accuracy, 'evaluation_matrices': eval_matrices, 'r_test_metrics': r_test_matrices, 'y_test':y_test, 'predictions':y_test_predictions}})\n",
    "    else:\n",
    "        classifier_data.__setitem__(model_type, {'classifier':classifier, 'accuracy':y_test_accuracy, 'evaluation_matrices': eval_matrices, 'r_test_metrics': r_test_matrices, 'y_test':y_test, 'predictions':y_test_predictions})\n",
    "\n",
    "    "
   ]
  },
  {
   "cell_type": "code",
   "execution_count": null,
   "metadata": {
    "colab": {
     "base_uri": "https://localhost:8080/"
    },
    "id": "Ay4mxBq__Gjn",
    "outputId": "3f4a9b82-df4d-4960-b591-9a390113b139"
   },
   "outputs": [
    {
     "name": "stdout",
     "output_type": "stream",
     "text": [
      "StratifiedShuffleSplit KFold With Train Size\n",
      "Fold Number:  1\n",
      "\n",
      "\n",
      "Fold Number:  2\n",
      "\n",
      "\n"
     ]
    }
   ],
   "source": [
    "fold_size = 2\n",
    "fold_no = 1\n",
    "print('StratifiedShuffleSplit KFold With Train Size')\n",
    "# Split into 2 folds with Test data = 20 % and Training Data = 80%\n",
    "sss = StratifiedShuffleSplit(n_splits=fold_size, test_size=0.2, random_state=1)\n",
    "for train_index, test_index in sss.split(X, y):\n",
    "  print('Fold Number: ', str(fold_no))\n",
    "  run_model_on_test_data('DecisionTreeClassifier', X, y , train_index, test_index, best_decision_classifier)\n",
    "  run_model_on_test_data('KNNClassifier', X, y , train_index, test_index,  best_knn_classifier)\n",
    "  fold_no = fold_no + 1 \n",
    "  print('\\n')"
   ]
  },
  {
   "cell_type": "code",
   "execution_count": null,
   "metadata": {
    "colab": {
     "base_uri": "https://localhost:8080/"
    },
    "id": "_OK029z7LLvl",
    "outputId": "00de1690-671d-426d-fbf3-39e01bc23307"
   },
   "outputs": [
    {
     "name": "stdout",
     "output_type": "stream",
     "text": [
      "Comparing the both the DecisionTreeClassifier and  KNNClassifier with evaluaton metrics\n",
      "\n",
      "\n",
      "DecisionTreeClassifier accuracy result on test data : \n",
      "                                                     0\n",
      "accuracy % :                                      95.0\n",
      "precision % :                                95.396825\n",
      "recall % :                                   94.871795\n",
      "f1_score % :                                 94.838229\n",
      "confusion_matrix  [[11, 1, 1], [0, 14, 0], [0, 0, 13]]\n",
      "Classification Report :\n",
      "\n",
      "              precision    recall  f1-score   support\n",
      "\n",
      "         1.0       1.00      0.85      0.92        13\n",
      "         2.0       0.93      1.00      0.97        14\n",
      "         3.0       0.93      1.00      0.96        13\n",
      "\n",
      "    accuracy                           0.95        40\n",
      "   macro avg       0.95      0.95      0.95        40\n",
      "weighted avg       0.95      0.95      0.95        40\n",
      "\n",
      "\n",
      "\n",
      "KNNClassifier accuracy result on test data : \n",
      "                                                    0\n",
      "accuracy % :                                     90.0\n",
      "precision % :                               91.388889\n",
      "recall % :                                   89.74359\n",
      "f1_score % :                                89.336219\n",
      "confusion_matrix  [[9, 2, 2], [0, 14, 0], [0, 0, 13]]\n",
      "Classification Report :\n",
      "\n",
      "              precision    recall  f1-score   support\n",
      "\n",
      "         1.0       1.00      0.69      0.82        13\n",
      "         2.0       0.88      1.00      0.93        14\n",
      "         3.0       0.87      1.00      0.93        13\n",
      "\n",
      "    accuracy                           0.90        40\n",
      "   macro avg       0.91      0.90      0.89        40\n",
      "weighted avg       0.91      0.90      0.89        40\n",
      "\n"
     ]
    }
   ],
   "source": [
    "print(\"Comparing the both the DecisionTreeClassifier and  KNNClassifier with evaluaton metrics\")\n",
    "print_model_evaluation_results(classifier_data)"
   ]
  },
  {
   "cell_type": "markdown",
   "metadata": {
    "id": "wEamhuFqQp0V"
   },
   "source": [
    "**Obseravtions:**\n",
    "After multiple runs on test data and looking at the results of both classifiers. We can see that accuracy , precision , recall , f1_score of DecisionTree classifier is almost 7 % to 9 % better than KNN classifiers . Also considering all classes types , macro avg of DecisionTree is almost 10 % better than KNN . \n",
    "\n",
    "**Yes we can conclude for given data set , the DecisionTree Classifier is best**"
   ]
  },
  {
   "cell_type": "markdown",
   "metadata": {
    "id": "YkXozYgPOh1B"
   },
   "source": [
    "# Underfitting/Overfitting/Just right model"
   ]
  },
  {
   "cell_type": "markdown",
   "metadata": {
    "id": "WxrV5lxmk-cw"
   },
   "source": [
    "To Understand Underfitting/OverFitting we will calculate the regularization metrics for the given model on both test and train data and see if the model is Underfitting or overfitting or just right . Regularisation matrices includes caculation of r2, mae,mse , rmse etc .  Here we consider example Mean Absolute Error (MAE): MAE measures the average magnitude of the errors in a set of predictions, without considering their direction. This helps to understand if model is overfitting or underfitting . \n"
   ]
  },
  {
   "cell_type": "code",
   "execution_count": null,
   "metadata": {
    "id": "sVbz41ZaOJAM"
   },
   "outputs": [],
   "source": [
    "def plot_mea_graph(model_type):\n",
    "  plt.plot(range(1, fold_no),  np.array(regularization_data.get(model_type).get('training_error')).ravel(), 'o-', color='green', label='train')\n",
    "  plt.plot(range(1, fold_no), np.array(regularization_data.get(model_type).get('test_error')).ravel(), 'o-', color='red', label='test')\n",
    "  plt.xlabel(f'Number of folds_size({fold_no-1})')\n",
    "  plt.ylabel('Mean Absolute Error')\n",
    "  plt.title(f'For Model {model_type}: Training and Test error across folds')\n",
    "  plt.show()\n"
   ]
  },
  {
   "cell_type": "code",
   "execution_count": null,
   "metadata": {
    "colab": {
     "base_uri": "https://localhost:8080/",
     "height": 296
    },
    "id": "mZxYNyG8axVB",
    "outputId": "f2943ad7-c658-4d22-ffcb-901aeb7a3d80"
   },
   "outputs": [
    {
     "data": {
      "image/png": "[encoded data removed]",
      "text/plain": [
       "<Figure size 432x288 with 1 Axes>"
      ]
     },
     "metadata": {
      "needs_background": "light"
     },
     "output_type": "display_data"
    }
   ],
   "source": [
    "plot_mea_graph('DecisionTreeClassifier')"
   ]
  },
  {
   "cell_type": "markdown",
   "metadata": {
    "id": "Fobhm1uol_gw"
   },
   "source": [
    "**Observation of DecisionTreeClassifier MAE data** : DecisionTree Classifier\n",
    "initially the MAE(Mean Absolute error) is more for training data and eventually decreases, which is sign of a good model - as the model learn it, it reduces the error.\n",
    "further, the MAE was low for test data and increases eventually - which takes the model from good fit to over fit. This is because, after a point the MAE for training data is going down and smaller while MAE for test data is increasing and larger.\n",
    "Still, the MAE range is near 0.1 which could be taken as acceptable range.\n",
    "Thus, in conclusion, the model is good fit initially and move towards overfitting eventually."
   ]
  },
  {
   "cell_type": "code",
   "execution_count": null,
   "metadata": {
    "colab": {
     "base_uri": "https://localhost:8080/",
     "height": 296
    },
    "id": "n4TyfunpkV_m",
    "outputId": "784b7a0e-54a4-42e0-93da-e863f952a032"
   },
   "outputs": [
    {
     "data": {
      "image/png": "[encoded data removed]",
      "text/plain": [
       "<Figure size 432x288 with 1 Axes>"
      ]
     },
     "metadata": {
      "needs_background": "light"
     },
     "output_type": "display_data"
    }
   ],
   "source": [
    "plot_mea_graph('KNNClassifier')\n"
   ]
  },
  {
   "cell_type": "markdown",
   "metadata": {
    "id": "JBsy7ygYmPu7"
   },
   "source": [
    "**Observation of KNNClassifier MAE data** : KNN Classifier\n",
    "initially the MAE(Mean Absolute error) is more for training data and eventually decreases, which is sign of a good model - as the model learn it, it reduces the error.\n",
    "further, the MAE was low for test data and increases eventually - which takes the model from good fit to over fit. This is because, after a point the MAE for training data is going down and smaller while MAE for test data is increasing and larger.\n",
    "Thus, in conclusion, the model is good fit initiall and move towards overfitting eventually.\n",
    "\n",
    "In comparision between DecisionTre Classifier and KNN Classifier, the DecisionTree classifier fares well as the MAE is comparatively low and hence more promising."
   ]
  },
  {
   "cell_type": "markdown",
   "metadata": {
    "id": "RZy02OeKmTMY"
   },
   "source": [
    "# End of Assignment "
   ]
  }
 ],
 "metadata": {
  "colab": {
   "collapsed_sections": [],
   "name": "Group244_WheatSeed.ipynb",
   "provenance": []
  },
  "kernelspec": {
   "display_name": "Python 3",
   "language": "python",
   "name": "python3"
  },
  "language_info": {
   "codemirror_mode": {
    "name": "ipython",
    "version": 3
   },
   "file_extension": ".py",
   "mimetype": "text/x-python",
   "name": "python",
   "nbconvert_exporter": "python",
   "pygments_lexer": "ipython3",
   "version": "3.8.8"
  }
 },
 "nbformat": 4,
 "nbformat_minor": 1
}
